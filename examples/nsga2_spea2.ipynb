{
  "cells": [
    {
      "cell_type": "markdown",
      "metadata": {
        "id": "Un4xh9Whdw7S"
      },
      "source": [
        "[![Open In Colab](https://colab.research.google.com/assets/colab-badge.svg)](https://colab.research.google.com/github/adaptive-intelligent-robotics/QDax/blob/main/examples/nsga2_spea2.ipynb)"
      ]
    },
    {
      "cell_type": "markdown",
      "metadata": {
        "id": "zQKy45REdw7V"
      },
      "source": [
        "# Optimizing multiple objectives with NSGA2 & SPEA2 in Jax\n",
        "\n",
        "This notebook shows how to use QDax to find diverse and performing parameters on a multi-objectives Rastrigin problem, using [NSGA2](https://ieeexplore.ieee.org/document/996017) and [SPEA2](https://www.semanticscholar.org/paper/SPEA2%3A-Improving-the-strength-pareto-evolutionary-Zitzler-Laumanns/b13724cb54ae4171916f3f969d304b9e9752a57f) algorithms. It can be run locally or on Google Colab. We recommand to use a GPU. This notebook will show:\n",
        "\n",
        "- how to define the problem\n",
        "- how to create an emitter instance\n",
        "- how to create an NSGA2 instance\n",
        "- how to create an SPEA2 instance\n",
        "- which functions must be defined before training\n",
        "- how to launch a certain number of training steps\n",
        "- how to visualise the optimization process"
      ]
    },
    {
      "cell_type": "code",
      "source": [
        "pip install brax"
      ],
      "metadata": {
        "id": "9SKArdsgeBQz",
        "outputId": "79e4e7e1-7343-468e-a3da-866c7b7cf38e",
        "colab": {
          "base_uri": "https://localhost:8080/"
        }
      },
      "execution_count": 2,
      "outputs": [
        {
          "output_type": "stream",
          "name": "stdout",
          "text": [
            "Collecting brax\n",
            "  Downloading brax-0.9.1-py3-none-any.whl (1.7 MB)\n",
            "\u001b[2K     \u001b[90m━━━━━━━━━━━━━━━━━━━━━━━━━━━━━━━━━━━━━━━━\u001b[0m \u001b[32m1.7/1.7 MB\u001b[0m \u001b[31m25.7 MB/s\u001b[0m eta \u001b[36m0:00:00\u001b[0m\n",
            "\u001b[?25hRequirement already satisfied: Pillow in /usr/local/lib/python3.10/dist-packages (from brax) (10.0.0)\n",
            "Requirement already satisfied: absl-py in /usr/local/lib/python3.10/dist-packages (from brax) (1.4.0)\n",
            "Requirement already satisfied: dm-env in /usr/local/lib/python3.10/dist-packages (from brax) (1.6)\n",
            "Requirement already satisfied: etils in /usr/local/lib/python3.10/dist-packages (from brax) (1.3.0)\n",
            "Requirement already satisfied: flask in /usr/local/lib/python3.10/dist-packages (from brax) (2.2.5)\n",
            "Collecting flask-cors (from brax)\n",
            "  Downloading Flask_Cors-4.0.0-py2.py3-none-any.whl (14 kB)\n",
            "Requirement already satisfied: flax in /usr/local/lib/python3.10/dist-packages (from brax) (0.7.0)\n",
            "Requirement already satisfied: grpcio in /usr/local/lib/python3.10/dist-packages (from brax) (1.56.0)\n",
            "Requirement already satisfied: gym in /usr/local/lib/python3.10/dist-packages (from brax) (0.25.2)\n",
            "Requirement already satisfied: jax>=0.4.6 in /usr/local/lib/python3.10/dist-packages (from brax) (0.4.13)\n",
            "Requirement already satisfied: jaxlib>=0.4.6 in /usr/local/lib/python3.10/dist-packages (from brax) (0.4.13+cuda11.cudnn86)\n",
            "Collecting jaxopt (from brax)\n",
            "  Downloading jaxopt-0.7-py3-none-any.whl (151 kB)\n",
            "\u001b[2K     \u001b[90m━━━━━━━━━━━━━━━━━━━━━━━━━━━━━━━━━━━━━━\u001b[0m \u001b[32m151.2/151.2 kB\u001b[0m \u001b[31m14.2 MB/s\u001b[0m eta \u001b[36m0:00:00\u001b[0m\n",
            "\u001b[?25hRequirement already satisfied: jinja2 in /usr/local/lib/python3.10/dist-packages (from brax) (3.1.2)\n",
            "Collecting mujoco (from brax)\n",
            "  Downloading mujoco-2.3.6-cp310-cp310-manylinux_2_17_x86_64.manylinux2014_x86_64.whl (4.5 MB)\n",
            "\u001b[2K     \u001b[90m━━━━━━━━━━━━━━━━━━━━━━━━━━━━━━━━━━━━━━━━\u001b[0m \u001b[32m4.5/4.5 MB\u001b[0m \u001b[31m22.8 MB/s\u001b[0m eta \u001b[36m0:00:00\u001b[0m\n",
            "\u001b[?25hRequirement already satisfied: numpy in /usr/local/lib/python3.10/dist-packages (from brax) (1.22.4)\n",
            "Requirement already satisfied: optax in /usr/local/lib/python3.10/dist-packages (from brax) (0.1.5)\n",
            "Collecting pytinyrenderer (from brax)\n",
            "  Downloading pytinyrenderer-0.0.14-cp310-cp310-manylinux_2_17_x86_64.manylinux2014_x86_64.whl (1.9 MB)\n",
            "\u001b[2K     \u001b[90m━━━━━━━━━━━━━━━━━━━━━━━━━━━━━━━━━━━━━━━━\u001b[0m \u001b[32m1.9/1.9 MB\u001b[0m \u001b[31m35.5 MB/s\u001b[0m eta \u001b[36m0:00:00\u001b[0m\n",
            "\u001b[?25hRequirement already satisfied: scipy in /usr/local/lib/python3.10/dist-packages (from brax) (1.10.1)\n",
            "Collecting tensorboardX (from brax)\n",
            "  Downloading tensorboardX-2.6.1-py2.py3-none-any.whl (101 kB)\n",
            "\u001b[2K     \u001b[90m━━━━━━━━━━━━━━━━━━━━━━━━━━━━━━━━━━━━━━━\u001b[0m \u001b[32m101.6/101.6 kB\u001b[0m \u001b[31m8.2 MB/s\u001b[0m eta \u001b[36m0:00:00\u001b[0m\n",
            "\u001b[?25hCollecting trimesh==3.9.35 (from brax)\n",
            "  Downloading trimesh-3.9.35-py3-none-any.whl (639 kB)\n",
            "\u001b[2K     \u001b[90m━━━━━━━━━━━━━━━━━━━━━━━━━━━━━━━━━━━━━━\u001b[0m \u001b[32m639.3/639.3 kB\u001b[0m \u001b[31m52.3 MB/s\u001b[0m eta \u001b[36m0:00:00\u001b[0m\n",
            "\u001b[?25hRequirement already satisfied: typing-extensions in /usr/local/lib/python3.10/dist-packages (from brax) (4.7.1)\n",
            "Requirement already satisfied: setuptools in /usr/local/lib/python3.10/dist-packages (from trimesh==3.9.35->brax) (67.7.2)\n",
            "Requirement already satisfied: ml-dtypes>=0.1.0 in /usr/local/lib/python3.10/dist-packages (from jax>=0.4.6->brax) (0.2.0)\n",
            "Requirement already satisfied: opt-einsum in /usr/local/lib/python3.10/dist-packages (from jax>=0.4.6->brax) (3.3.0)\n",
            "Requirement already satisfied: dm-tree in /usr/local/lib/python3.10/dist-packages (from dm-env->brax) (0.1.8)\n",
            "Requirement already satisfied: Werkzeug>=2.2.2 in /usr/local/lib/python3.10/dist-packages (from flask->brax) (2.3.6)\n",
            "Requirement already satisfied: itsdangerous>=2.0 in /usr/local/lib/python3.10/dist-packages (from flask->brax) (2.1.2)\n",
            "Requirement already satisfied: click>=8.0 in /usr/local/lib/python3.10/dist-packages (from flask->brax) (8.1.4)\n",
            "Requirement already satisfied: MarkupSafe>=2.0 in /usr/local/lib/python3.10/dist-packages (from jinja2->brax) (2.1.3)\n",
            "Requirement already satisfied: msgpack in /usr/local/lib/python3.10/dist-packages (from flax->brax) (1.0.5)\n",
            "Requirement already satisfied: orbax-checkpoint in /usr/local/lib/python3.10/dist-packages (from flax->brax) (0.2.7)\n",
            "Requirement already satisfied: tensorstore in /usr/local/lib/python3.10/dist-packages (from flax->brax) (0.1.40)\n",
            "Requirement already satisfied: rich>=11.1 in /usr/local/lib/python3.10/dist-packages (from flax->brax) (13.4.2)\n",
            "Requirement already satisfied: PyYAML>=5.4.1 in /usr/local/lib/python3.10/dist-packages (from flax->brax) (6.0)\n",
            "Requirement already satisfied: cloudpickle>=1.2.0 in /usr/local/lib/python3.10/dist-packages (from gym->brax) (2.2.1)\n",
            "Requirement already satisfied: gym-notices>=0.0.4 in /usr/local/lib/python3.10/dist-packages (from gym->brax) (0.0.8)\n",
            "Collecting glfw (from mujoco->brax)\n",
            "  Downloading glfw-2.6.2-py2.py27.py3.py30.py31.py32.py33.py34.py35.py36.py37.py38-none-manylinux2014_x86_64.whl (208 kB)\n",
            "\u001b[2K     \u001b[90m━━━━━━━━━━━━━━━━━━━━━━━━━━━━━━━━━━━━━━\u001b[0m \u001b[32m208.2/208.2 kB\u001b[0m \u001b[31m23.3 MB/s\u001b[0m eta \u001b[36m0:00:00\u001b[0m\n",
            "\u001b[?25hRequirement already satisfied: pyopengl in /usr/local/lib/python3.10/dist-packages (from mujoco->brax) (3.1.7)\n",
            "Requirement already satisfied: chex>=0.1.5 in /usr/local/lib/python3.10/dist-packages (from optax->brax) (0.1.5)\n",
            "Requirement already satisfied: packaging in /usr/local/lib/python3.10/dist-packages (from tensorboardX->brax) (23.1)\n",
            "Collecting protobuf>=4.22.3 (from tensorboardX->brax)\n",
            "  Downloading protobuf-4.23.4-cp37-abi3-manylinux2014_x86_64.whl (304 kB)\n",
            "\u001b[2K     \u001b[90m━━━━━━━━━━━━━━━━━━━━━━━━━━━━━━━━━━━━━━\u001b[0m \u001b[32m304.5/304.5 kB\u001b[0m \u001b[31m31.8 MB/s\u001b[0m eta \u001b[36m0:00:00\u001b[0m\n",
            "\u001b[?25hRequirement already satisfied: toolz>=0.9.0 in /usr/local/lib/python3.10/dist-packages (from chex>=0.1.5->optax->brax) (0.12.0)\n",
            "Requirement already satisfied: markdown-it-py>=2.2.0 in /usr/local/lib/python3.10/dist-packages (from rich>=11.1->flax->brax) (3.0.0)\n",
            "Requirement already satisfied: pygments<3.0.0,>=2.13.0 in /usr/local/lib/python3.10/dist-packages (from rich>=11.1->flax->brax) (2.14.0)\n",
            "Requirement already satisfied: nest_asyncio in /usr/local/lib/python3.10/dist-packages (from orbax-checkpoint->flax->brax) (1.5.6)\n",
            "Requirement already satisfied: mdurl~=0.1 in /usr/local/lib/python3.10/dist-packages (from markdown-it-py>=2.2.0->rich>=11.1->flax->brax) (0.1.2)\n",
            "Requirement already satisfied: importlib_resources in /usr/local/lib/python3.10/dist-packages (from etils->brax) (6.0.0)\n",
            "Requirement already satisfied: zipp in /usr/local/lib/python3.10/dist-packages (from etils->brax) (3.16.0)\n",
            "Installing collected packages: pytinyrenderer, glfw, trimesh, protobuf, mujoco, tensorboardX, jaxopt, flask-cors, brax\n",
            "  Attempting uninstall: protobuf\n",
            "    Found existing installation: protobuf 3.20.3\n",
            "    Uninstalling protobuf-3.20.3:\n",
            "      Successfully uninstalled protobuf-3.20.3\n",
            "\u001b[31mERROR: pip's dependency resolver does not currently take into account all the packages that are installed. This behaviour is the source of the following dependency conflicts.\n",
            "qdax 0.2.3 requires flax<0.6.2,>=0.6, but you have flax 0.7.0 which is incompatible.\n",
            "qdax 0.2.3 requires jinja2<3.1.0, but you have jinja2 3.1.2 which is incompatible.\n",
            "qdax 0.2.3 requires optax<0.1.5,>=0.1, but you have optax 0.1.5 which is incompatible.\u001b[0m\u001b[31m\n",
            "\u001b[0mSuccessfully installed brax-0.9.1 flask-cors-4.0.0 glfw-2.6.2 jaxopt-0.7 mujoco-2.3.6 protobuf-4.23.4 pytinyrenderer-0.0.14 tensorboardX-2.6.1 trimesh-3.9.35\n"
          ]
        }
      ]
    },
    {
      "cell_type": "code",
      "execution_count": 3,
      "metadata": {
        "id": "2CKdQTLwdw7Y",
        "outputId": "87ddaaa4-3fe8-4502-cb9d-d4863f3a2662",
        "colab": {
          "base_uri": "https://localhost:8080/"
        }
      },
      "outputs": [
        {
          "output_type": "stream",
          "name": "stderr",
          "text": [
            "/usr/local/lib/python3.10/dist-packages/trimesh/curvature.py:12: DeprecationWarning: Please use `coo_matrix` from the `scipy.sparse` namespace, the `scipy.sparse.coo` namespace is deprecated.\n",
            "  from scipy.sparse.coo import coo_matrix\n"
          ]
        }
      ],
      "source": [
        "import jax.numpy as jnp\n",
        "import jax\n",
        "\n",
        "from typing import Tuple\n",
        "\n",
        "import matplotlib.pyplot as plt\n",
        "\n",
        "from functools import partial\n",
        "\n",
        "try:\n",
        "    import flax\n",
        "except:\n",
        "    !pip install --no-deps git+https://github.com/google/flax.git@v0.4.1 |tail -n 1\n",
        "    import flax\n",
        "\n",
        "try:\n",
        "    import chex\n",
        "except:\n",
        "    !pip install --no-deps git+https://github.com/deepmind/chex.git@v0.1.3 |tail -n 1\n",
        "    import chex\n",
        "\n",
        "try:\n",
        "    import jumanji\n",
        "except:\n",
        "    !pip install \"jumanji==0.2.2\"\n",
        "    import jumanji\n",
        "\n",
        "try:\n",
        "    import qdax\n",
        "except:\n",
        "    !pip install --no-deps git+https://github.com/adaptive-intelligent-robotics/QDax@main |tail -n 1\n",
        "    import qdax\n",
        "\n",
        "from qdax.baselines.nsga2 import (\n",
        "    NSGA2\n",
        ")\n",
        "from qdax.baselines.spea2 import (\n",
        "    SPEA2\n",
        ")\n",
        "\n",
        "from qdax.core.emitters.mutation_operators import (\n",
        "    polynomial_crossover,\n",
        "    polynomial_mutation\n",
        ")\n",
        "from qdax.core.emitters.standard_emitters import MixingEmitter\n",
        "from qdax.utils.pareto_front import compute_pareto_front\n",
        "from qdax.utils.plotting import plot_global_pareto_front\n",
        "\n",
        "from qdax.utils.pareto_front import compute_pareto_front\n",
        "from qdax.utils.plotting import plot_global_pareto_front\n",
        "from qdax.utils.metrics import default_ga_metrics\n",
        "\n",
        "from qdax.types import Genotype, Fitness, Descriptor"
      ]
    },
    {
      "cell_type": "markdown",
      "metadata": {
        "id": "ctOgxVsBdw7a"
      },
      "source": [
        "## Set the hyperparameters"
      ]
    },
    {
      "cell_type": "code",
      "execution_count": 78,
      "metadata": {
        "id": "hPa26O9gdw7a"
      },
      "outputs": [],
      "source": [
        "#@markdown ---\n",
        "population_size = 1000 #@param {type:\"integer\"}\n",
        "num_iterations = 1000 #@param {type:\"integer\"}\n",
        "proportion_mutation = 0.5 #@param {type:\"number\"}\n",
        "minval = -4 #@param {type:\"number\"}\n",
        "maxval = 4 #@param {type:\"number\"}\n",
        "batch_size = 100 #@param {type:\"integer\"}\n",
        "genotype_dim = 4 #@param {type:\"integer\"}\n",
        "lag = 2.2 #@param {type:\"number\"}\n",
        "base_lag = 0 #@param {type:\"number\"}\n",
        "# for spea2\n",
        "num_neighbours=1 #@param {type:\"integer\"}\n",
        "#@markdown ---\n",
        "\n",
        "# min/max = 5.12"
      ]
    },
    {
      "cell_type": "markdown",
      "metadata": {
        "id": "SZtTT_ofdw7c"
      },
      "source": [
        "## Define the scoring function: rastrigin multi-objective\n",
        "\n",
        "We use two rastrigin functions with an offset to create a multi-objective problem."
      ]
    },
    {
      "cell_type": "code",
      "execution_count": 79,
      "metadata": {
        "id": "seb1OGdadw7d"
      },
      "outputs": [],
      "source": [
        "# def rastrigin_scorer(\n",
        "#     genotypes: jnp.ndarray, base_lag: float, lag: float\n",
        "# ) -> Tuple[Fitness, Descriptor]:\n",
        "#     \"\"\"\n",
        "#     Rastrigin Scorer with first two dimensions as descriptors\n",
        "#     \"\"\"\n",
        "#     descriptors = genotypes[:, :2]\n",
        "#     f1 = -(\n",
        "#         10 * genotypes.shape[1]\n",
        "#         + jnp.sum(\n",
        "#             (genotypes - base_lag) ** 2\n",
        "#             - 10 * jnp.cos(2 * jnp.pi * (genotypes - base_lag)),\n",
        "#             axis=1,\n",
        "#         )\n",
        "#     )\n",
        "\n",
        "#     f2 = -(\n",
        "#         10 * genotypes.shape[1]\n",
        "#         + jnp.sum(\n",
        "#             (genotypes - lag) ** 2 - 10 * jnp.cos(2 * jnp.pi * (genotypes - lag)),\n",
        "#             axis=1,\n",
        "#         )\n",
        "#     )\n",
        "#     scores = jnp.stack([f1, f2], axis=-1)\n",
        "\n",
        "#     return scores, descriptors"
      ]
    },
    {
      "cell_type": "code",
      "source": [
        "# # Scoring function\n",
        "# scoring_function = partial(\n",
        "#     rastrigin_scorer,\n",
        "#     lag=lag,\n",
        "#     base_lag=base_lag\n",
        "# )\n",
        "\n",
        "# def scoring_fn(x, random_key):\n",
        "#     return scoring_function(x)[0], {}, random_key"
      ],
      "metadata": {
        "id": "2qf0HDb1fnc-"
      },
      "execution_count": 80,
      "outputs": []
    },
    {
      "cell_type": "code",
      "source": [
        "def fonseca_fleming_scorer(\n",
        "    genotypes: jnp.ndarray, genotype_dim: float\n",
        ") -> Tuple[Fitness, Descriptor]:\n",
        "    \"\"\"\n",
        "    Fonseca–Fleming function Scorer with first two dimensions as descriptors\n",
        "    \"\"\"\n",
        "\n",
        "\n",
        "    f1 = (1 - jnp.exp(- jnp.sum( (genotypes  - jnp.sqrt(1/genotype_dim))**2 , axis = 1 )) )\n",
        "\n",
        "    f2 = (1 - jnp.exp(- jnp.sum( (genotypes  + jnp.sqrt(1/genotype_dim))**2 , axis = 1)))\n",
        "\n",
        "    descriptors = genotypes[:, :2]\n",
        "\n",
        "    scores = jnp.stack([f1, f2], axis=-1)\n",
        "\n",
        "\n",
        "    return scores, descriptors"
      ],
      "metadata": {
        "id": "h0Hke89jeJen"
      },
      "execution_count": 81,
      "outputs": []
    },
    {
      "cell_type": "code",
      "execution_count": 82,
      "metadata": {
        "id": "s7_9_fjedw7e"
      },
      "outputs": [],
      "source": [
        "# Scoring function\n",
        "scoring_function = partial(fonseca_fleming_scorer, genotype_dim= genotype_dim)\n",
        "    #, #rastrigin_scorer,\n",
        "    #lag=lag,\n",
        "    #base_lag=base_lag\n",
        "#)\n",
        "\n",
        "def scoring_fn(x, random_key):\n",
        "    return scoring_function(x)[0], {}, random_key"
      ]
    },
    {
      "cell_type": "code",
      "source": [
        "# init_genotypes.shape"
      ],
      "metadata": {
        "id": "NOx8SGcFeq_Z"
      },
      "execution_count": 83,
      "outputs": []
    },
    {
      "cell_type": "markdown",
      "metadata": {
        "id": "ODqb4eO_dw7f"
      },
      "source": [
        "## Define initial population and emitter"
      ]
    },
    {
      "cell_type": "code",
      "execution_count": 84,
      "metadata": {
        "id": "b1brsAW3dw7g"
      },
      "outputs": [],
      "source": [
        "# Initial population\n",
        "random_key = jax.random.PRNGKey(0)\n",
        "random_key, subkey = jax.random.split(random_key)\n",
        "init_genotypes = jax.random.uniform(\n",
        "    subkey, (batch_size, genotype_dim), minval=minval, maxval=maxval, dtype=jnp.float32\n",
        ")\n",
        "\n",
        "# Mutation & Crossover\n",
        "crossover_function = partial(\n",
        "    polynomial_crossover,\n",
        "    proportion_var_to_change=0.25,\n",
        ")\n",
        "\n",
        "mutation_function = partial(\n",
        "    polynomial_mutation,\n",
        "    proportion_to_mutate=0.5,\n",
        "    eta=0.05,\n",
        "    minval=minval,\n",
        "    maxval=maxval\n",
        ")\n",
        "\n",
        "# Define the emitter\n",
        "mixing_emitter = MixingEmitter(\n",
        "    mutation_fn=mutation_function,\n",
        "    variation_fn=crossover_function,\n",
        "    variation_percentage=1-proportion_mutation,\n",
        "    batch_size=batch_size\n",
        ")"
      ]
    },
    {
      "cell_type": "markdown",
      "metadata": {
        "id": "qkmATdH8dw7h"
      },
      "source": [
        "## Instantiate and init NSGA2"
      ]
    },
    {
      "cell_type": "code",
      "execution_count": 85,
      "metadata": {
        "id": "sdrKePXudw7h"
      },
      "outputs": [],
      "source": [
        "# instantitiate nsga2\n",
        "nsga2 = NSGA2(\n",
        "    scoring_function=scoring_fn,\n",
        "    emitter=mixing_emitter,\n",
        "    metrics_function=default_ga_metrics\n",
        ")\n",
        "\n",
        "# init nsga2\n",
        "repertoire, emitter_state, random_key = nsga2.init(\n",
        "    init_genotypes,\n",
        "    population_size,\n",
        "    random_key\n",
        ")"
      ]
    },
    {
      "cell_type": "markdown",
      "metadata": {
        "id": "7a7sFAt3dw7i"
      },
      "source": [
        "## Run and visualize result"
      ]
    },
    {
      "cell_type": "code",
      "execution_count": 86,
      "metadata": {
        "id": "DZHrGQuQdw7j",
        "outputId": "cd2bd119-cfbf-4c3f-e574-2399ac0c947a",
        "colab": {
          "base_uri": "https://localhost:8080/"
        }
      },
      "outputs": [
        {
          "output_type": "stream",
          "name": "stdout",
          "text": [
            "CPU times: user 31.1 s, sys: 152 ms, total: 31.3 s\n",
            "Wall time: 24.9 s\n"
          ]
        }
      ],
      "source": [
        "%%time\n",
        "\n",
        "# run optimization loop\n",
        "(repertoire, emitter_state, random_key), _ = jax.lax.scan(\n",
        "    nsga2.scan_update, (repertoire, emitter_state, random_key), (), length=num_iterations\n",
        ")"
      ]
    },
    {
      "cell_type": "code",
      "execution_count": 87,
      "metadata": {
        "id": "a47onoUndw7k",
        "outputId": "37f48aa0-2d3e-48e0-942a-41146208c97f",
        "colab": {
          "base_uri": "https://localhost:8080/",
          "height": 571
        }
      },
      "outputs": [
        {
          "output_type": "display_data",
          "data": {
            "text/plain": [
              "<Figure size 900x600 with 1 Axes>"
            ],
            "image/png": "[encoded data removed]"
          },
          "metadata": {}
        }
      ],
      "source": [
        "fig, ax = plt.subplots(figsize=(9, 6))\n",
        "pareto_bool = compute_pareto_front(repertoire.fitnesses)\n",
        "plot_global_pareto_front(repertoire.fitnesses[pareto_bool], ax=ax)\n",
        "ax.set_title(\"Pareto front obtained by NSGA2\", fontsize=16)\n",
        "ax.set_xlabel(\"Fitness Dimension 1\", fontsize=14)\n",
        "ax.set_ylabel(\"Fitness Dimension 2\", fontsize=14)\n",
        "plt.grid()\n",
        "plt.show()"
      ]
    },
    {
      "cell_type": "markdown",
      "metadata": {
        "id": "XhbG7CUedw7k"
      },
      "source": [
        "## Instantiate and init SPEA2"
      ]
    },
    {
      "cell_type": "code",
      "execution_count": 64,
      "metadata": {
        "id": "FewGZmjEdw7k"
      },
      "outputs": [],
      "source": [
        "# instantitiate spea2\n",
        "spea2 = SPEA2(\n",
        "    scoring_function=scoring_fn,\n",
        "    emitter=mixing_emitter,\n",
        "    metrics_function=default_ga_metrics\n",
        ")\n",
        "\n",
        "# init spea2\n",
        "repertoire, emitter_state, random_key = spea2.init(\n",
        "    init_genotypes,\n",
        "    population_size,\n",
        "    num_neighbours,\n",
        "    random_key\n",
        ")"
      ]
    },
    {
      "cell_type": "code",
      "execution_count": 65,
      "metadata": {
        "id": "Hqq_9pW3dw7l",
        "outputId": "b642fd58-50c1-4dab-fb65-72f915368b58",
        "colab": {
          "base_uri": "https://localhost:8080/"
        }
      },
      "outputs": [
        {
          "output_type": "stream",
          "name": "stdout",
          "text": [
            "CPU times: user 2min 50s, sys: 220 ms, total: 2min 50s\n",
            "Wall time: 2min 44s\n"
          ]
        }
      ],
      "source": [
        "%%time\n",
        "\n",
        "# run optimization loop\n",
        "(repertoire, emitter_state, random_key), _ = jax.lax.scan(\n",
        "    spea2.scan_update, (repertoire, emitter_state, random_key), (), length=num_iterations\n",
        ")"
      ]
    },
    {
      "cell_type": "markdown",
      "metadata": {
        "id": "5n5c5zMZdw7m"
      },
      "source": [
        "## Run and visualize result"
      ]
    },
    {
      "cell_type": "code",
      "execution_count": 66,
      "metadata": {
        "id": "CQH5A2XNdw7m",
        "outputId": "778d424d-d31a-4383-84e5-7b58a7d04391",
        "colab": {
          "base_uri": "https://localhost:8080/",
          "height": 571
        }
      },
      "outputs": [
        {
          "output_type": "display_data",
          "data": {
            "text/plain": [
              "<Figure size 900x600 with 1 Axes>"
            ],
            "image/png": "[encoded data removed]"
          },
          "metadata": {}
        }
      ],
      "source": [
        "fig, ax = plt.subplots(figsize=(9, 6))\n",
        "pareto_bool = compute_pareto_front(repertoire.fitnesses)\n",
        "plot_global_pareto_front(repertoire.fitnesses[pareto_bool], ax=ax)\n",
        "ax.set_title(\"Pareto front obtained by SPEA2\", fontsize=16)\n",
        "ax.set_xlabel(\"Fitness Dimension 1\", fontsize=14)\n",
        "ax.set_ylabel(\"Fitness Dimension 2\", fontsize=14)\n",
        "plt.grid()\n",
        "plt.show()"
      ]
    },
    {
      "cell_type": "code",
      "source": [],
      "metadata": {
        "id": "UKU2RpCQf0sg"
      },
      "execution_count": 33,
      "outputs": []
    }
  ],
  "metadata": {
    "kernelspec": {
      "display_name": "Python 3.8.13 ('qdaxpy38')",
      "language": "python",
      "name": "python3"
    },
    "language_info": {
      "codemirror_mode": {
        "name": "ipython",
        "version": 3
      },
      "file_extension": ".py",
      "mimetype": "text/x-python",
      "name": "python",
      "nbconvert_exporter": "python",
      "pygments_lexer": "ipython3",
      "version": "3.8.13"
    },
    "vscode": {
      "interpreter": {
        "hash": "9ae46cf6a59eb5e192bc4f27fbb5c33d8a30eb9acb43edbb510eeaf7c819ab64"
      }
    },
    "colab": {
      "provenance": []
    }
  },
  "nbformat": 4,
  "nbformat_minor": 0
}