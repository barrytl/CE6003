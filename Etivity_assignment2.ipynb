{
  "nbformat": 4,
  "nbformat_minor": 0,
  "metadata": {
    "colab": {
      "name": "Etivity_assignment2.ipynb",
      "provenance": [],
      "collapsed_sections": [],
      "include_colab_link": true
    },
    "kernelspec": {
      "name": "python3",
      "display_name": "Python 3"
    },
    "accelerator": "GPU",
    "widgets": {
      "application/vnd.jupyter.widget-state+json": {
        "a7e25d524a364d4a8591ddfb3b38ea00": {
          "model_module": "@jupyter-widgets/controls",
          "model_name": "HBoxModel",
          "model_module_version": "1.5.0",
          "state": {
            "_view_name": "HBoxView",
            "_dom_classes": [],
            "_model_name": "HBoxModel",
            "_view_module": "@jupyter-widgets/controls",
            "_model_module_version": "1.5.0",
            "_view_count": null,
            "_view_module_version": "1.5.0",
            "box_style": "",
            "layout": "IPY_MODEL_dc30c5bca2164e22a91f1a1b3abd2814",
            "_model_module": "@jupyter-widgets/controls",
            "children": [
              "IPY_MODEL_4f43327d67d54b92ac5ac248734f0008",
              "IPY_MODEL_63e7639bc4b741ad95cf13e1d135342d",
              "IPY_MODEL_726d51cfc3854e45aa368d29a33e961f"
            ]
          }
        },
        "dc30c5bca2164e22a91f1a1b3abd2814": {
          "model_module": "@jupyter-widgets/base",
          "model_name": "LayoutModel",
          "model_module_version": "1.2.0",
          "state": {
            "_view_name": "LayoutView",
            "grid_template_rows": null,
            "right": null,
            "justify_content": null,
            "_view_module": "@jupyter-widgets/base",
            "overflow": null,
            "_model_module_version": "1.2.0",
            "_view_count": null,
            "flex_flow": null,
            "width": null,
            "min_width": null,
            "border": null,
            "align_items": null,
            "bottom": null,
            "_model_module": "@jupyter-widgets/base",
            "top": null,
            "grid_column": null,
            "overflow_y": null,
            "overflow_x": null,
            "grid_auto_flow": null,
            "grid_area": null,
            "grid_template_columns": null,
            "flex": null,
            "_model_name": "LayoutModel",
            "justify_items": null,
            "grid_row": null,
            "max_height": null,
            "align_content": null,
            "visibility": null,
            "align_self": null,
            "height": null,
            "min_height": null,
            "padding": null,
            "grid_auto_rows": null,
            "grid_gap": null,
            "max_width": null,
            "order": null,
            "_view_module_version": "1.2.0",
            "grid_template_areas": null,
            "object_position": null,
            "object_fit": null,
            "grid_auto_columns": null,
            "margin": null,
            "display": null,
            "left": null
          }
        },
        "4f43327d67d54b92ac5ac248734f0008": {
          "model_module": "@jupyter-widgets/controls",
          "model_name": "HTMLModel",
          "model_module_version": "1.5.0",
          "state": {
            "_view_name": "HTMLView",
            "style": "IPY_MODEL_65b64f0e43bd4d68a9aaa5199a340a57",
            "_dom_classes": [],
            "description": "",
            "_model_name": "HTMLModel",
            "placeholder": "​",
            "_view_module": "@jupyter-widgets/controls",
            "_model_module_version": "1.5.0",
            "value": "Dl Completed...: 100%",
            "_view_count": null,
            "_view_module_version": "1.5.0",
            "description_tooltip": null,
            "_model_module": "@jupyter-widgets/controls",
            "layout": "IPY_MODEL_86d716aa1e1e499f9409d16ed3064722"
          }
        },
        "63e7639bc4b741ad95cf13e1d135342d": {
          "model_module": "@jupyter-widgets/controls",
          "model_name": "FloatProgressModel",
          "model_module_version": "1.5.0",
          "state": {
            "_view_name": "ProgressView",
            "style": "IPY_MODEL_645a1811e4a641a38981df441fadd023",
            "_dom_classes": [],
            "description": "",
            "_model_name": "FloatProgressModel",
            "bar_style": "success",
            "max": 1,
            "_view_module": "@jupyter-widgets/controls",
            "_model_module_version": "1.5.0",
            "value": 1,
            "_view_count": null,
            "_view_module_version": "1.5.0",
            "orientation": "horizontal",
            "min": 0,
            "description_tooltip": null,
            "_model_module": "@jupyter-widgets/controls",
            "layout": "IPY_MODEL_97c9e6e01d2144088f6acf72e821a89e"
          }
        },
        "726d51cfc3854e45aa368d29a33e961f": {
          "model_module": "@jupyter-widgets/controls",
          "model_name": "HTMLModel",
          "model_module_version": "1.5.0",
          "state": {
            "_view_name": "HTMLView",
            "style": "IPY_MODEL_dc2a099cced8422abdcd7d9a72df8c5c",
            "_dom_classes": [],
            "description": "",
            "_model_name": "HTMLModel",
            "placeholder": "​",
            "_view_module": "@jupyter-widgets/controls",
            "_model_module_version": "1.5.0",
            "value": " 1/1 [00:09&lt;00:00,  6.53s/ url]",
            "_view_count": null,
            "_view_module_version": "1.5.0",
            "description_tooltip": null,
            "_model_module": "@jupyter-widgets/controls",
            "layout": "IPY_MODEL_e24d5bbc708547fe84a7a49fc42164d0"
          }
        },
        "65b64f0e43bd4d68a9aaa5199a340a57": {
          "model_module": "@jupyter-widgets/controls",
          "model_name": "DescriptionStyleModel",
          "model_module_version": "1.5.0",
          "state": {
            "_view_name": "StyleView",
            "_model_name": "DescriptionStyleModel",
            "description_width": "",
            "_view_module": "@jupyter-widgets/base",
            "_model_module_version": "1.5.0",
            "_view_count": null,
            "_view_module_version": "1.2.0",
            "_model_module": "@jupyter-widgets/controls"
          }
        },
        "86d716aa1e1e499f9409d16ed3064722": {
          "model_module": "@jupyter-widgets/base",
          "model_name": "LayoutModel",
          "model_module_version": "1.2.0",
          "state": {
            "_view_name": "LayoutView",
            "grid_template_rows": null,
            "right": null,
            "justify_content": null,
            "_view_module": "@jupyter-widgets/base",
            "overflow": null,
            "_model_module_version": "1.2.0",
            "_view_count": null,
            "flex_flow": null,
            "width": null,
            "min_width": null,
            "border": null,
            "align_items": null,
            "bottom": null,
            "_model_module": "@jupyter-widgets/base",
            "top": null,
            "grid_column": null,
            "overflow_y": null,
            "overflow_x": null,
            "grid_auto_flow": null,
            "grid_area": null,
            "grid_template_columns": null,
            "flex": null,
            "_model_name": "LayoutModel",
            "justify_items": null,
            "grid_row": null,
            "max_height": null,
            "align_content": null,
            "visibility": null,
            "align_self": null,
            "height": null,
            "min_height": null,
            "padding": null,
            "grid_auto_rows": null,
            "grid_gap": null,
            "max_width": null,
            "order": null,
            "_view_module_version": "1.2.0",
            "grid_template_areas": null,
            "object_position": null,
            "object_fit": null,
            "grid_auto_columns": null,
            "margin": null,
            "display": null,
            "left": null
          }
        },
        "645a1811e4a641a38981df441fadd023": {
          "model_module": "@jupyter-widgets/controls",
          "model_name": "ProgressStyleModel",
          "model_module_version": "1.5.0",
          "state": {
            "_view_name": "StyleView",
            "_model_name": "ProgressStyleModel",
            "description_width": "",
            "_view_module": "@jupyter-widgets/base",
            "_model_module_version": "1.5.0",
            "_view_count": null,
            "_view_module_version": "1.2.0",
            "bar_color": null,
            "_model_module": "@jupyter-widgets/controls"
          }
        },
        "97c9e6e01d2144088f6acf72e821a89e": {
          "model_module": "@jupyter-widgets/base",
          "model_name": "LayoutModel",
          "model_module_version": "1.2.0",
          "state": {
            "_view_name": "LayoutView",
            "grid_template_rows": null,
            "right": null,
            "justify_content": null,
            "_view_module": "@jupyter-widgets/base",
            "overflow": null,
            "_model_module_version": "1.2.0",
            "_view_count": null,
            "flex_flow": null,
            "width": "20px",
            "min_width": null,
            "border": null,
            "align_items": null,
            "bottom": null,
            "_model_module": "@jupyter-widgets/base",
            "top": null,
            "grid_column": null,
            "overflow_y": null,
            "overflow_x": null,
            "grid_auto_flow": null,
            "grid_area": null,
            "grid_template_columns": null,
            "flex": null,
            "_model_name": "LayoutModel",
            "justify_items": null,
            "grid_row": null,
            "max_height": null,
            "align_content": null,
            "visibility": null,
            "align_self": null,
            "height": null,
            "min_height": null,
            "padding": null,
            "grid_auto_rows": null,
            "grid_gap": null,
            "max_width": null,
            "order": null,
            "_view_module_version": "1.2.0",
            "grid_template_areas": null,
            "object_position": null,
            "object_fit": null,
            "grid_auto_columns": null,
            "margin": null,
            "display": null,
            "left": null
          }
        },
        "dc2a099cced8422abdcd7d9a72df8c5c": {
          "model_module": "@jupyter-widgets/controls",
          "model_name": "DescriptionStyleModel",
          "model_module_version": "1.5.0",
          "state": {
            "_view_name": "StyleView",
            "_model_name": "DescriptionStyleModel",
            "description_width": "",
            "_view_module": "@jupyter-widgets/base",
            "_model_module_version": "1.5.0",
            "_view_count": null,
            "_view_module_version": "1.2.0",
            "_model_module": "@jupyter-widgets/controls"
          }
        },
        "e24d5bbc708547fe84a7a49fc42164d0": {
          "model_module": "@jupyter-widgets/base",
          "model_name": "LayoutModel",
          "model_module_version": "1.2.0",
          "state": {
            "_view_name": "LayoutView",
            "grid_template_rows": null,
            "right": null,
            "justify_content": null,
            "_view_module": "@jupyter-widgets/base",
            "overflow": null,
            "_model_module_version": "1.2.0",
            "_view_count": null,
            "flex_flow": null,
            "width": null,
            "min_width": null,
            "border": null,
            "align_items": null,
            "bottom": null,
            "_model_module": "@jupyter-widgets/base",
            "top": null,
            "grid_column": null,
            "overflow_y": null,
            "overflow_x": null,
            "grid_auto_flow": null,
            "grid_area": null,
            "grid_template_columns": null,
            "flex": null,
            "_model_name": "LayoutModel",
            "justify_items": null,
            "grid_row": null,
            "max_height": null,
            "align_content": null,
            "visibility": null,
            "align_self": null,
            "height": null,
            "min_height": null,
            "padding": null,
            "grid_auto_rows": null,
            "grid_gap": null,
            "max_width": null,
            "order": null,
            "_view_module_version": "1.2.0",
            "grid_template_areas": null,
            "object_position": null,
            "object_fit": null,
            "grid_auto_columns": null,
            "margin": null,
            "display": null,
            "left": null
          }
        },
        "0ad1859cc03e4817acae7d823eee059e": {
          "model_module": "@jupyter-widgets/controls",
          "model_name": "HBoxModel",
          "model_module_version": "1.5.0",
          "state": {
            "_view_name": "HBoxView",
            "_dom_classes": [],
            "_model_name": "HBoxModel",
            "_view_module": "@jupyter-widgets/controls",
            "_model_module_version": "1.5.0",
            "_view_count": null,
            "_view_module_version": "1.5.0",
            "box_style": "",
            "layout": "IPY_MODEL_f0bab9bf1b98447b9ff2585eb468aaf1",
            "_model_module": "@jupyter-widgets/controls",
            "children": [
              "IPY_MODEL_d48fcf5e95e04052b1baf5eb91b1a5f2",
              "IPY_MODEL_24918bb145c84477b250badcfc8bd553",
              "IPY_MODEL_00002251122942788e582cb6c56f60ad"
            ]
          }
        },
        "f0bab9bf1b98447b9ff2585eb468aaf1": {
          "model_module": "@jupyter-widgets/base",
          "model_name": "LayoutModel",
          "model_module_version": "1.2.0",
          "state": {
            "_view_name": "LayoutView",
            "grid_template_rows": null,
            "right": null,
            "justify_content": null,
            "_view_module": "@jupyter-widgets/base",
            "overflow": null,
            "_model_module_version": "1.2.0",
            "_view_count": null,
            "flex_flow": null,
            "width": null,
            "min_width": null,
            "border": null,
            "align_items": null,
            "bottom": null,
            "_model_module": "@jupyter-widgets/base",
            "top": null,
            "grid_column": null,
            "overflow_y": null,
            "overflow_x": null,
            "grid_auto_flow": null,
            "grid_area": null,
            "grid_template_columns": null,
            "flex": null,
            "_model_name": "LayoutModel",
            "justify_items": null,
            "grid_row": null,
            "max_height": null,
            "align_content": null,
            "visibility": null,
            "align_self": null,
            "height": null,
            "min_height": null,
            "padding": null,
            "grid_auto_rows": null,
            "grid_gap": null,
            "max_width": null,
            "order": null,
            "_view_module_version": "1.2.0",
            "grid_template_areas": null,
            "object_position": null,
            "object_fit": null,
            "grid_auto_columns": null,
            "margin": null,
            "display": null,
            "left": null
          }
        },
        "d48fcf5e95e04052b1baf5eb91b1a5f2": {
          "model_module": "@jupyter-widgets/controls",
          "model_name": "HTMLModel",
          "model_module_version": "1.5.0",
          "state": {
            "_view_name": "HTMLView",
            "style": "IPY_MODEL_33f6b34b80ab407fab63f1191db432f0",
            "_dom_classes": [],
            "description": "",
            "_model_name": "HTMLModel",
            "placeholder": "​",
            "_view_module": "@jupyter-widgets/controls",
            "_model_module_version": "1.5.0",
            "value": "Dl Size...: 100%",
            "_view_count": null,
            "_view_module_version": "1.5.0",
            "description_tooltip": null,
            "_model_module": "@jupyter-widgets/controls",
            "layout": "IPY_MODEL_340e6481c1ff4eb7981900c78c785620"
          }
        },
        "24918bb145c84477b250badcfc8bd553": {
          "model_module": "@jupyter-widgets/controls",
          "model_name": "FloatProgressModel",
          "model_module_version": "1.5.0",
          "state": {
            "_view_name": "ProgressView",
            "style": "IPY_MODEL_bdb225f2793e4ac48a371c461d6891a4",
            "_dom_classes": [],
            "description": "",
            "_model_name": "FloatProgressModel",
            "bar_style": "success",
            "max": 1,
            "_view_module": "@jupyter-widgets/controls",
            "_model_module_version": "1.5.0",
            "value": 1,
            "_view_count": null,
            "_view_module_version": "1.5.0",
            "orientation": "horizontal",
            "min": 0,
            "description_tooltip": null,
            "_model_module": "@jupyter-widgets/controls",
            "layout": "IPY_MODEL_dab8f0e92f51452ca36f8b08412237f6"
          }
        },
        "00002251122942788e582cb6c56f60ad": {
          "model_module": "@jupyter-widgets/controls",
          "model_name": "HTMLModel",
          "model_module_version": "1.5.0",
          "state": {
            "_view_name": "HTMLView",
            "style": "IPY_MODEL_a4621409ee894c658d5067c949d89b47",
            "_dom_classes": [],
            "description": "",
            "_model_name": "HTMLModel",
            "placeholder": "​",
            "_view_module": "@jupyter-widgets/controls",
            "_model_module_version": "1.5.0",
            "value": " 162/162 [00:09&lt;00:00, 30.69 MiB/s]",
            "_view_count": null,
            "_view_module_version": "1.5.0",
            "description_tooltip": null,
            "_model_module": "@jupyter-widgets/controls",
            "layout": "IPY_MODEL_77436f5e147e458197b5830c877705da"
          }
        },
        "33f6b34b80ab407fab63f1191db432f0": {
          "model_module": "@jupyter-widgets/controls",
          "model_name": "DescriptionStyleModel",
          "model_module_version": "1.5.0",
          "state": {
            "_view_name": "StyleView",
            "_model_name": "DescriptionStyleModel",
            "description_width": "",
            "_view_module": "@jupyter-widgets/base",
            "_model_module_version": "1.5.0",
            "_view_count": null,
            "_view_module_version": "1.2.0",
            "_model_module": "@jupyter-widgets/controls"
          }
        },
        "340e6481c1ff4eb7981900c78c785620": {
          "model_module": "@jupyter-widgets/base",
          "model_name": "LayoutModel",
          "model_module_version": "1.2.0",
          "state": {
            "_view_name": "LayoutView",
            "grid_template_rows": null,
            "right": null,
            "justify_content": null,
            "_view_module": "@jupyter-widgets/base",
            "overflow": null,
            "_model_module_version": "1.2.0",
            "_view_count": null,
            "flex_flow": null,
            "width": null,
            "min_width": null,
            "border": null,
            "align_items": null,
            "bottom": null,
            "_model_module": "@jupyter-widgets/base",
            "top": null,
            "grid_column": null,
            "overflow_y": null,
            "overflow_x": null,
            "grid_auto_flow": null,
            "grid_area": null,
            "grid_template_columns": null,
            "flex": null,
            "_model_name": "LayoutModel",
            "justify_items": null,
            "grid_row": null,
            "max_height": null,
            "align_content": null,
            "visibility": null,
            "align_self": null,
            "height": null,
            "min_height": null,
            "padding": null,
            "grid_auto_rows": null,
            "grid_gap": null,
            "max_width": null,
            "order": null,
            "_view_module_version": "1.2.0",
            "grid_template_areas": null,
            "object_position": null,
            "object_fit": null,
            "grid_auto_columns": null,
            "margin": null,
            "display": null,
            "left": null
          }
        },
        "bdb225f2793e4ac48a371c461d6891a4": {
          "model_module": "@jupyter-widgets/controls",
          "model_name": "ProgressStyleModel",
          "model_module_version": "1.5.0",
          "state": {
            "_view_name": "StyleView",
            "_model_name": "ProgressStyleModel",
            "description_width": "",
            "_view_module": "@jupyter-widgets/base",
            "_model_module_version": "1.5.0",
            "_view_count": null,
            "_view_module_version": "1.2.0",
            "bar_color": null,
            "_model_module": "@jupyter-widgets/controls"
          }
        },
        "dab8f0e92f51452ca36f8b08412237f6": {
          "model_module": "@jupyter-widgets/base",
          "model_name": "LayoutModel",
          "model_module_version": "1.2.0",
          "state": {
            "_view_name": "LayoutView",
            "grid_template_rows": null,
            "right": null,
            "justify_content": null,
            "_view_module": "@jupyter-widgets/base",
            "overflow": null,
            "_model_module_version": "1.2.0",
            "_view_count": null,
            "flex_flow": null,
            "width": "20px",
            "min_width": null,
            "border": null,
            "align_items": null,
            "bottom": null,
            "_model_module": "@jupyter-widgets/base",
            "top": null,
            "grid_column": null,
            "overflow_y": null,
            "overflow_x": null,
            "grid_auto_flow": null,
            "grid_area": null,
            "grid_template_columns": null,
            "flex": null,
            "_model_name": "LayoutModel",
            "justify_items": null,
            "grid_row": null,
            "max_height": null,
            "align_content": null,
            "visibility": null,
            "align_self": null,
            "height": null,
            "min_height": null,
            "padding": null,
            "grid_auto_rows": null,
            "grid_gap": null,
            "max_width": null,
            "order": null,
            "_view_module_version": "1.2.0",
            "grid_template_areas": null,
            "object_position": null,
            "object_fit": null,
            "grid_auto_columns": null,
            "margin": null,
            "display": null,
            "left": null
          }
        },
        "a4621409ee894c658d5067c949d89b47": {
          "model_module": "@jupyter-widgets/controls",
          "model_name": "DescriptionStyleModel",
          "model_module_version": "1.5.0",
          "state": {
            "_view_name": "StyleView",
            "_model_name": "DescriptionStyleModel",
            "description_width": "",
            "_view_module": "@jupyter-widgets/base",
            "_model_module_version": "1.5.0",
            "_view_count": null,
            "_view_module_version": "1.2.0",
            "_model_module": "@jupyter-widgets/controls"
          }
        },
        "77436f5e147e458197b5830c877705da": {
          "model_module": "@jupyter-widgets/base",
          "model_name": "LayoutModel",
          "model_module_version": "1.2.0",
          "state": {
            "_view_name": "LayoutView",
            "grid_template_rows": null,
            "right": null,
            "justify_content": null,
            "_view_module": "@jupyter-widgets/base",
            "overflow": null,
            "_model_module_version": "1.2.0",
            "_view_count": null,
            "flex_flow": null,
            "width": null,
            "min_width": null,
            "border": null,
            "align_items": null,
            "bottom": null,
            "_model_module": "@jupyter-widgets/base",
            "top": null,
            "grid_column": null,
            "overflow_y": null,
            "overflow_x": null,
            "grid_auto_flow": null,
            "grid_area": null,
            "grid_template_columns": null,
            "flex": null,
            "_model_name": "LayoutModel",
            "justify_items": null,
            "grid_row": null,
            "max_height": null,
            "align_content": null,
            "visibility": null,
            "align_self": null,
            "height": null,
            "min_height": null,
            "padding": null,
            "grid_auto_rows": null,
            "grid_gap": null,
            "max_width": null,
            "order": null,
            "_view_module_version": "1.2.0",
            "grid_template_areas": null,
            "object_position": null,
            "object_fit": null,
            "grid_auto_columns": null,
            "margin": null,
            "display": null,
            "left": null
          }
        },
        "d11e28e1014d4586b06ee0eb7731bac0": {
          "model_module": "@jupyter-widgets/controls",
          "model_name": "HBoxModel",
          "model_module_version": "1.5.0",
          "state": {
            "_view_name": "HBoxView",
            "_dom_classes": [],
            "_model_name": "HBoxModel",
            "_view_module": "@jupyter-widgets/controls",
            "_model_module_version": "1.5.0",
            "_view_count": null,
            "_view_module_version": "1.5.0",
            "box_style": "",
            "layout": "IPY_MODEL_b04da01620354b5c9713d0b3b5a5ba54",
            "_model_module": "@jupyter-widgets/controls",
            "children": [
              "IPY_MODEL_be713aedaae94dce8d694c62b4a39b6e",
              "IPY_MODEL_5d18fc75e44d4e0b8de50cc7bf69a649",
              "IPY_MODEL_6611ea2a30cb4bf0b89b9bea2f2ea76f"
            ]
          }
        },
        "b04da01620354b5c9713d0b3b5a5ba54": {
          "model_module": "@jupyter-widgets/base",
          "model_name": "LayoutModel",
          "model_module_version": "1.2.0",
          "state": {
            "_view_name": "LayoutView",
            "grid_template_rows": null,
            "right": null,
            "justify_content": null,
            "_view_module": "@jupyter-widgets/base",
            "overflow": null,
            "_model_module_version": "1.2.0",
            "_view_count": null,
            "flex_flow": null,
            "width": null,
            "min_width": null,
            "border": null,
            "align_items": null,
            "bottom": null,
            "_model_module": "@jupyter-widgets/base",
            "top": null,
            "grid_column": null,
            "overflow_y": null,
            "overflow_x": null,
            "grid_auto_flow": null,
            "grid_area": null,
            "grid_template_columns": null,
            "flex": null,
            "_model_name": "LayoutModel",
            "justify_items": null,
            "grid_row": null,
            "max_height": null,
            "align_content": null,
            "visibility": null,
            "align_self": null,
            "height": null,
            "min_height": null,
            "padding": null,
            "grid_auto_rows": null,
            "grid_gap": null,
            "max_width": null,
            "order": null,
            "_view_module_version": "1.2.0",
            "grid_template_areas": null,
            "object_position": null,
            "object_fit": null,
            "grid_auto_columns": null,
            "margin": null,
            "display": null,
            "left": null
          }
        },
        "be713aedaae94dce8d694c62b4a39b6e": {
          "model_module": "@jupyter-widgets/controls",
          "model_name": "HTMLModel",
          "model_module_version": "1.5.0",
          "state": {
            "_view_name": "HTMLView",
            "style": "IPY_MODEL_01b10fe513be4eda8c4bb8ef580e28bf",
            "_dom_classes": [],
            "description": "",
            "_model_name": "HTMLModel",
            "placeholder": "​",
            "_view_module": "@jupyter-widgets/controls",
            "_model_module_version": "1.5.0",
            "value": "Extraction completed...: 100%",
            "_view_count": null,
            "_view_module_version": "1.5.0",
            "description_tooltip": null,
            "_model_module": "@jupyter-widgets/controls",
            "layout": "IPY_MODEL_6728c357f7244a979833f4d4346d2ab8"
          }
        },
        "5d18fc75e44d4e0b8de50cc7bf69a649": {
          "model_module": "@jupyter-widgets/controls",
          "model_name": "FloatProgressModel",
          "model_module_version": "1.5.0",
          "state": {
            "_view_name": "ProgressView",
            "style": "IPY_MODEL_ab8de00f965b45b4918495101625fbdc",
            "_dom_classes": [],
            "description": "",
            "_model_name": "FloatProgressModel",
            "bar_style": "success",
            "max": 1,
            "_view_module": "@jupyter-widgets/controls",
            "_model_module_version": "1.5.0",
            "value": 1,
            "_view_count": null,
            "_view_module_version": "1.5.0",
            "orientation": "horizontal",
            "min": 0,
            "description_tooltip": null,
            "_model_module": "@jupyter-widgets/controls",
            "layout": "IPY_MODEL_8c3a09ea87744f48a5d39cd69c0df47d"
          }
        },
        "6611ea2a30cb4bf0b89b9bea2f2ea76f": {
          "model_module": "@jupyter-widgets/controls",
          "model_name": "HTMLModel",
          "model_module_version": "1.5.0",
          "state": {
            "_view_name": "HTMLView",
            "style": "IPY_MODEL_3f0cbff3ca534c49924b3b74a285f932",
            "_dom_classes": [],
            "description": "",
            "_model_name": "HTMLModel",
            "placeholder": "​",
            "_view_module": "@jupyter-widgets/controls",
            "_model_module_version": "1.5.0",
            "value": " 1/1 [00:08&lt;00:00,  8.94s/ file]",
            "_view_count": null,
            "_view_module_version": "1.5.0",
            "description_tooltip": null,
            "_model_module": "@jupyter-widgets/controls",
            "layout": "IPY_MODEL_7a2a568751954067b734d084cfa6700f"
          }
        },
        "01b10fe513be4eda8c4bb8ef580e28bf": {
          "model_module": "@jupyter-widgets/controls",
          "model_name": "DescriptionStyleModel",
          "model_module_version": "1.5.0",
          "state": {
            "_view_name": "StyleView",
            "_model_name": "DescriptionStyleModel",
            "description_width": "",
            "_view_module": "@jupyter-widgets/base",
            "_model_module_version": "1.5.0",
            "_view_count": null,
            "_view_module_version": "1.2.0",
            "_model_module": "@jupyter-widgets/controls"
          }
        },
        "6728c357f7244a979833f4d4346d2ab8": {
          "model_module": "@jupyter-widgets/base",
          "model_name": "LayoutModel",
          "model_module_version": "1.2.0",
          "state": {
            "_view_name": "LayoutView",
            "grid_template_rows": null,
            "right": null,
            "justify_content": null,
            "_view_module": "@jupyter-widgets/base",
            "overflow": null,
            "_model_module_version": "1.2.0",
            "_view_count": null,
            "flex_flow": null,
            "width": null,
            "min_width": null,
            "border": null,
            "align_items": null,
            "bottom": null,
            "_model_module": "@jupyter-widgets/base",
            "top": null,
            "grid_column": null,
            "overflow_y": null,
            "overflow_x": null,
            "grid_auto_flow": null,
            "grid_area": null,
            "grid_template_columns": null,
            "flex": null,
            "_model_name": "LayoutModel",
            "justify_items": null,
            "grid_row": null,
            "max_height": null,
            "align_content": null,
            "visibility": null,
            "align_self": null,
            "height": null,
            "min_height": null,
            "padding": null,
            "grid_auto_rows": null,
            "grid_gap": null,
            "max_width": null,
            "order": null,
            "_view_module_version": "1.2.0",
            "grid_template_areas": null,
            "object_position": null,
            "object_fit": null,
            "grid_auto_columns": null,
            "margin": null,
            "display": null,
            "left": null
          }
        },
        "ab8de00f965b45b4918495101625fbdc": {
          "model_module": "@jupyter-widgets/controls",
          "model_name": "ProgressStyleModel",
          "model_module_version": "1.5.0",
          "state": {
            "_view_name": "StyleView",
            "_model_name": "ProgressStyleModel",
            "description_width": "",
            "_view_module": "@jupyter-widgets/base",
            "_model_module_version": "1.5.0",
            "_view_count": null,
            "_view_module_version": "1.2.0",
            "bar_color": null,
            "_model_module": "@jupyter-widgets/controls"
          }
        },
        "8c3a09ea87744f48a5d39cd69c0df47d": {
          "model_module": "@jupyter-widgets/base",
          "model_name": "LayoutModel",
          "model_module_version": "1.2.0",
          "state": {
            "_view_name": "LayoutView",
            "grid_template_rows": null,
            "right": null,
            "justify_content": null,
            "_view_module": "@jupyter-widgets/base",
            "overflow": null,
            "_model_module_version": "1.2.0",
            "_view_count": null,
            "flex_flow": null,
            "width": "20px",
            "min_width": null,
            "border": null,
            "align_items": null,
            "bottom": null,
            "_model_module": "@jupyter-widgets/base",
            "top": null,
            "grid_column": null,
            "overflow_y": null,
            "overflow_x": null,
            "grid_auto_flow": null,
            "grid_area": null,
            "grid_template_columns": null,
            "flex": null,
            "_model_name": "LayoutModel",
            "justify_items": null,
            "grid_row": null,
            "max_height": null,
            "align_content": null,
            "visibility": null,
            "align_self": null,
            "height": null,
            "min_height": null,
            "padding": null,
            "grid_auto_rows": null,
            "grid_gap": null,
            "max_width": null,
            "order": null,
            "_view_module_version": "1.2.0",
            "grid_template_areas": null,
            "object_position": null,
            "object_fit": null,
            "grid_auto_columns": null,
            "margin": null,
            "display": null,
            "left": null
          }
        },
        "3f0cbff3ca534c49924b3b74a285f932": {
          "model_module": "@jupyter-widgets/controls",
          "model_name": "DescriptionStyleModel",
          "model_module_version": "1.5.0",
          "state": {
            "_view_name": "StyleView",
            "_model_name": "DescriptionStyleModel",
            "description_width": "",
            "_view_module": "@jupyter-widgets/base",
            "_model_module_version": "1.5.0",
            "_view_count": null,
            "_view_module_version": "1.2.0",
            "_model_module": "@jupyter-widgets/controls"
          }
        },
        "7a2a568751954067b734d084cfa6700f": {
          "model_module": "@jupyter-widgets/base",
          "model_name": "LayoutModel",
          "model_module_version": "1.2.0",
          "state": {
            "_view_name": "LayoutView",
            "grid_template_rows": null,
            "right": null,
            "justify_content": null,
            "_view_module": "@jupyter-widgets/base",
            "overflow": null,
            "_model_module_version": "1.2.0",
            "_view_count": null,
            "flex_flow": null,
            "width": null,
            "min_width": null,
            "border": null,
            "align_items": null,
            "bottom": null,
            "_model_module": "@jupyter-widgets/base",
            "top": null,
            "grid_column": null,
            "overflow_y": null,
            "overflow_x": null,
            "grid_auto_flow": null,
            "grid_area": null,
            "grid_template_columns": null,
            "flex": null,
            "_model_name": "LayoutModel",
            "justify_items": null,
            "grid_row": null,
            "max_height": null,
            "align_content": null,
            "visibility": null,
            "align_self": null,
            "height": null,
            "min_height": null,
            "padding": null,
            "grid_auto_rows": null,
            "grid_gap": null,
            "max_width": null,
            "order": null,
            "_view_module_version": "1.2.0",
            "grid_template_areas": null,
            "object_position": null,
            "object_fit": null,
            "grid_auto_columns": null,
            "margin": null,
            "display": null,
            "left": null
          }
        },
        "5873ac74a9cc44109a3616ae1ed2c45e": {
          "model_module": "@jupyter-widgets/controls",
          "model_name": "HBoxModel",
          "model_module_version": "1.5.0",
          "state": {
            "_view_name": "HBoxView",
            "_dom_classes": [],
            "_model_name": "HBoxModel",
            "_view_module": "@jupyter-widgets/controls",
            "_model_module_version": "1.5.0",
            "_view_count": null,
            "_view_module_version": "1.5.0",
            "box_style": "",
            "layout": "IPY_MODEL_ed84a2388b4d47b283c656cbd88bb1fd",
            "_model_module": "@jupyter-widgets/controls",
            "children": [
              "IPY_MODEL_b7503152bcb64165b4d44f84c524eb70",
              "IPY_MODEL_1074454a16434c19abcb595d435e5abd",
              "IPY_MODEL_e03b3b2ae5ad4aab95638a86f8264c2c"
            ]
          }
        },
        "ed84a2388b4d47b283c656cbd88bb1fd": {
          "model_module": "@jupyter-widgets/base",
          "model_name": "LayoutModel",
          "model_module_version": "1.2.0",
          "state": {
            "_view_name": "LayoutView",
            "grid_template_rows": null,
            "right": null,
            "justify_content": null,
            "_view_module": "@jupyter-widgets/base",
            "overflow": null,
            "_model_module_version": "1.2.0",
            "_view_count": null,
            "flex_flow": null,
            "width": null,
            "min_width": null,
            "border": null,
            "align_items": null,
            "bottom": null,
            "_model_module": "@jupyter-widgets/base",
            "top": null,
            "grid_column": null,
            "overflow_y": null,
            "overflow_x": null,
            "grid_auto_flow": null,
            "grid_area": null,
            "grid_template_columns": null,
            "flex": null,
            "_model_name": "LayoutModel",
            "justify_items": null,
            "grid_row": null,
            "max_height": null,
            "align_content": null,
            "visibility": null,
            "align_self": null,
            "height": null,
            "min_height": null,
            "padding": null,
            "grid_auto_rows": null,
            "grid_gap": null,
            "max_width": null,
            "order": null,
            "_view_module_version": "1.2.0",
            "grid_template_areas": null,
            "object_position": null,
            "object_fit": null,
            "grid_auto_columns": null,
            "margin": null,
            "display": null,
            "left": null
          }
        },
        "b7503152bcb64165b4d44f84c524eb70": {
          "model_module": "@jupyter-widgets/controls",
          "model_name": "HTMLModel",
          "model_module_version": "1.5.0",
          "state": {
            "_view_name": "HTMLView",
            "style": "IPY_MODEL_44fcd5393d974c6dbd23aad6f3671311",
            "_dom_classes": [],
            "description": "",
            "_model_name": "HTMLModel",
            "placeholder": "​",
            "_view_module": "@jupyter-widgets/controls",
            "_model_module_version": "1.5.0",
            "value": "",
            "_view_count": null,
            "_view_module_version": "1.5.0",
            "description_tooltip": null,
            "_model_module": "@jupyter-widgets/controls",
            "layout": "IPY_MODEL_7553e5ee91fb4c928af337a0b3b149d8"
          }
        },
        "1074454a16434c19abcb595d435e5abd": {
          "model_module": "@jupyter-widgets/controls",
          "model_name": "FloatProgressModel",
          "model_module_version": "1.5.0",
          "state": {
            "_view_name": "ProgressView",
            "style": "IPY_MODEL_dcc859f7deb64114b202f13877b08e9d",
            "_dom_classes": [],
            "description": "",
            "_model_name": "FloatProgressModel",
            "bar_style": "info",
            "max": 1,
            "_view_module": "@jupyter-widgets/controls",
            "_model_module_version": "1.5.0",
            "value": 1,
            "_view_count": null,
            "_view_module_version": "1.5.0",
            "orientation": "horizontal",
            "min": 0,
            "description_tooltip": null,
            "_model_module": "@jupyter-widgets/controls",
            "layout": "IPY_MODEL_6594abcc1f764713af7b4b2c0c2d4837"
          }
        },
        "e03b3b2ae5ad4aab95638a86f8264c2c": {
          "model_module": "@jupyter-widgets/controls",
          "model_name": "HTMLModel",
          "model_module_version": "1.5.0",
          "state": {
            "_view_name": "HTMLView",
            "style": "IPY_MODEL_26ebdbb7aa3e40f9a8e5b12cfa9f14e3",
            "_dom_classes": [],
            "description": "",
            "_model_name": "HTMLModel",
            "placeholder": "​",
            "_view_module": "@jupyter-widgets/controls",
            "_model_module_version": "1.5.0",
            "value": " 49959/0 [00:57&lt;00:00, 887.73 examples/s]",
            "_view_count": null,
            "_view_module_version": "1.5.0",
            "description_tooltip": null,
            "_model_module": "@jupyter-widgets/controls",
            "layout": "IPY_MODEL_f2aabab80b664cc08857bcd85e9727de"
          }
        },
        "44fcd5393d974c6dbd23aad6f3671311": {
          "model_module": "@jupyter-widgets/controls",
          "model_name": "DescriptionStyleModel",
          "model_module_version": "1.5.0",
          "state": {
            "_view_name": "StyleView",
            "_model_name": "DescriptionStyleModel",
            "description_width": "",
            "_view_module": "@jupyter-widgets/base",
            "_model_module_version": "1.5.0",
            "_view_count": null,
            "_view_module_version": "1.2.0",
            "_model_module": "@jupyter-widgets/controls"
          }
        },
        "7553e5ee91fb4c928af337a0b3b149d8": {
          "model_module": "@jupyter-widgets/base",
          "model_name": "LayoutModel",
          "model_module_version": "1.2.0",
          "state": {
            "_view_name": "LayoutView",
            "grid_template_rows": null,
            "right": null,
            "justify_content": null,
            "_view_module": "@jupyter-widgets/base",
            "overflow": null,
            "_model_module_version": "1.2.0",
            "_view_count": null,
            "flex_flow": null,
            "width": null,
            "min_width": null,
            "border": null,
            "align_items": null,
            "bottom": null,
            "_model_module": "@jupyter-widgets/base",
            "top": null,
            "grid_column": null,
            "overflow_y": null,
            "overflow_x": null,
            "grid_auto_flow": null,
            "grid_area": null,
            "grid_template_columns": null,
            "flex": null,
            "_model_name": "LayoutModel",
            "justify_items": null,
            "grid_row": null,
            "max_height": null,
            "align_content": null,
            "visibility": null,
            "align_self": null,
            "height": null,
            "min_height": null,
            "padding": null,
            "grid_auto_rows": null,
            "grid_gap": null,
            "max_width": null,
            "order": null,
            "_view_module_version": "1.2.0",
            "grid_template_areas": null,
            "object_position": null,
            "object_fit": null,
            "grid_auto_columns": null,
            "margin": null,
            "display": null,
            "left": null
          }
        },
        "dcc859f7deb64114b202f13877b08e9d": {
          "model_module": "@jupyter-widgets/controls",
          "model_name": "ProgressStyleModel",
          "model_module_version": "1.5.0",
          "state": {
            "_view_name": "StyleView",
            "_model_name": "ProgressStyleModel",
            "description_width": "",
            "_view_module": "@jupyter-widgets/base",
            "_model_module_version": "1.5.0",
            "_view_count": null,
            "_view_module_version": "1.2.0",
            "bar_color": null,
            "_model_module": "@jupyter-widgets/controls"
          }
        },
        "6594abcc1f764713af7b4b2c0c2d4837": {
          "model_module": "@jupyter-widgets/base",
          "model_name": "LayoutModel",
          "model_module_version": "1.2.0",
          "state": {
            "_view_name": "LayoutView",
            "grid_template_rows": null,
            "right": null,
            "justify_content": null,
            "_view_module": "@jupyter-widgets/base",
            "overflow": null,
            "_model_module_version": "1.2.0",
            "_view_count": null,
            "flex_flow": null,
            "width": "20px",
            "min_width": null,
            "border": null,
            "align_items": null,
            "bottom": null,
            "_model_module": "@jupyter-widgets/base",
            "top": null,
            "grid_column": null,
            "overflow_y": null,
            "overflow_x": null,
            "grid_auto_flow": null,
            "grid_area": null,
            "grid_template_columns": null,
            "flex": null,
            "_model_name": "LayoutModel",
            "justify_items": null,
            "grid_row": null,
            "max_height": null,
            "align_content": null,
            "visibility": null,
            "align_self": null,
            "height": null,
            "min_height": null,
            "padding": null,
            "grid_auto_rows": null,
            "grid_gap": null,
            "max_width": null,
            "order": null,
            "_view_module_version": "1.2.0",
            "grid_template_areas": null,
            "object_position": null,
            "object_fit": null,
            "grid_auto_columns": null,
            "margin": null,
            "display": null,
            "left": null
          }
        },
        "26ebdbb7aa3e40f9a8e5b12cfa9f14e3": {
          "model_module": "@jupyter-widgets/controls",
          "model_name": "DescriptionStyleModel",
          "model_module_version": "1.5.0",
          "state": {
            "_view_name": "StyleView",
            "_model_name": "DescriptionStyleModel",
            "description_width": "",
            "_view_module": "@jupyter-widgets/base",
            "_model_module_version": "1.5.0",
            "_view_count": null,
            "_view_module_version": "1.2.0",
            "_model_module": "@jupyter-widgets/controls"
          }
        },
        "f2aabab80b664cc08857bcd85e9727de": {
          "model_module": "@jupyter-widgets/base",
          "model_name": "LayoutModel",
          "model_module_version": "1.2.0",
          "state": {
            "_view_name": "LayoutView",
            "grid_template_rows": null,
            "right": null,
            "justify_content": null,
            "_view_module": "@jupyter-widgets/base",
            "overflow": null,
            "_model_module_version": "1.2.0",
            "_view_count": null,
            "flex_flow": null,
            "width": null,
            "min_width": null,
            "border": null,
            "align_items": null,
            "bottom": null,
            "_model_module": "@jupyter-widgets/base",
            "top": null,
            "grid_column": null,
            "overflow_y": null,
            "overflow_x": null,
            "grid_auto_flow": null,
            "grid_area": null,
            "grid_template_columns": null,
            "flex": null,
            "_model_name": "LayoutModel",
            "justify_items": null,
            "grid_row": null,
            "max_height": null,
            "align_content": null,
            "visibility": null,
            "align_self": null,
            "height": null,
            "min_height": null,
            "padding": null,
            "grid_auto_rows": null,
            "grid_gap": null,
            "max_width": null,
            "order": null,
            "_view_module_version": "1.2.0",
            "grid_template_areas": null,
            "object_position": null,
            "object_fit": null,
            "grid_auto_columns": null,
            "margin": null,
            "display": null,
            "left": null
          }
        },
        "28dac3f36c594b82a1926da81253d8bb": {
          "model_module": "@jupyter-widgets/controls",
          "model_name": "HBoxModel",
          "model_module_version": "1.5.0",
          "state": {
            "_view_name": "HBoxView",
            "_dom_classes": [],
            "_model_name": "HBoxModel",
            "_view_module": "@jupyter-widgets/controls",
            "_model_module_version": "1.5.0",
            "_view_count": null,
            "_view_module_version": "1.5.0",
            "box_style": "",
            "layout": "IPY_MODEL_5d546a8f22dc4fdc8f58d9157a0a35be",
            "_model_module": "@jupyter-widgets/controls",
            "children": [
              "IPY_MODEL_8acfb46381fe4eb1867136ab326cfc85",
              "IPY_MODEL_32de2a1a0f1f44c6be9d638dbcad2204",
              "IPY_MODEL_53debdfa7e90418f92d5a3c57f7fedf2"
            ]
          }
        },
        "5d546a8f22dc4fdc8f58d9157a0a35be": {
          "model_module": "@jupyter-widgets/base",
          "model_name": "LayoutModel",
          "model_module_version": "1.2.0",
          "state": {
            "_view_name": "LayoutView",
            "grid_template_rows": null,
            "right": null,
            "justify_content": null,
            "_view_module": "@jupyter-widgets/base",
            "overflow": null,
            "_model_module_version": "1.2.0",
            "_view_count": null,
            "flex_flow": null,
            "width": null,
            "min_width": null,
            "border": null,
            "align_items": null,
            "bottom": null,
            "_model_module": "@jupyter-widgets/base",
            "top": null,
            "grid_column": null,
            "overflow_y": null,
            "overflow_x": null,
            "grid_auto_flow": null,
            "grid_area": null,
            "grid_template_columns": null,
            "flex": null,
            "_model_name": "LayoutModel",
            "justify_items": null,
            "grid_row": null,
            "max_height": null,
            "align_content": null,
            "visibility": null,
            "align_self": null,
            "height": null,
            "min_height": null,
            "padding": null,
            "grid_auto_rows": null,
            "grid_gap": null,
            "max_width": null,
            "order": null,
            "_view_module_version": "1.2.0",
            "grid_template_areas": null,
            "object_position": null,
            "object_fit": null,
            "grid_auto_columns": null,
            "margin": null,
            "display": null,
            "left": null
          }
        },
        "8acfb46381fe4eb1867136ab326cfc85": {
          "model_module": "@jupyter-widgets/controls",
          "model_name": "HTMLModel",
          "model_module_version": "1.5.0",
          "state": {
            "_view_name": "HTMLView",
            "style": "IPY_MODEL_2191c002e2534e4dafcca7e4c1e5f8f0",
            "_dom_classes": [],
            "description": "",
            "_model_name": "HTMLModel",
            "placeholder": "​",
            "_view_module": "@jupyter-widgets/controls",
            "_model_module_version": "1.5.0",
            "value": "100%",
            "_view_count": null,
            "_view_module_version": "1.5.0",
            "description_tooltip": null,
            "_model_module": "@jupyter-widgets/controls",
            "layout": "IPY_MODEL_564e3773e70a45dcaa497aa026c0f775"
          }
        },
        "32de2a1a0f1f44c6be9d638dbcad2204": {
          "model_module": "@jupyter-widgets/controls",
          "model_name": "FloatProgressModel",
          "model_module_version": "1.5.0",
          "state": {
            "_view_name": "ProgressView",
            "style": "IPY_MODEL_f015908e81604d3686dce23a30324c6b",
            "_dom_classes": [],
            "description": "",
            "_model_name": "FloatProgressModel",
            "bar_style": "danger",
            "max": 50000,
            "_view_module": "@jupyter-widgets/controls",
            "_model_module_version": "1.5.0",
            "value": 49999,
            "_view_count": null,
            "_view_module_version": "1.5.0",
            "orientation": "horizontal",
            "min": 0,
            "description_tooltip": null,
            "_model_module": "@jupyter-widgets/controls",
            "layout": "IPY_MODEL_32f96b00940940e9ae9121955fac8726"
          }
        },
        "53debdfa7e90418f92d5a3c57f7fedf2": {
          "model_module": "@jupyter-widgets/controls",
          "model_name": "HTMLModel",
          "model_module_version": "1.5.0",
          "state": {
            "_view_name": "HTMLView",
            "style": "IPY_MODEL_a52aca8ccf2a4341b9160040744e1e32",
            "_dom_classes": [],
            "description": "",
            "_model_name": "HTMLModel",
            "placeholder": "​",
            "_view_module": "@jupyter-widgets/controls",
            "_model_module_version": "1.5.0",
            "value": " 49999/50000 [00:00&lt;00:00, 113727.49 examples/s]",
            "_view_count": null,
            "_view_module_version": "1.5.0",
            "description_tooltip": null,
            "_model_module": "@jupyter-widgets/controls",
            "layout": "IPY_MODEL_1d646e6fdad947d4994c3dbf7838841d"
          }
        },
        "2191c002e2534e4dafcca7e4c1e5f8f0": {
          "model_module": "@jupyter-widgets/controls",
          "model_name": "DescriptionStyleModel",
          "model_module_version": "1.5.0",
          "state": {
            "_view_name": "StyleView",
            "_model_name": "DescriptionStyleModel",
            "description_width": "",
            "_view_module": "@jupyter-widgets/base",
            "_model_module_version": "1.5.0",
            "_view_count": null,
            "_view_module_version": "1.2.0",
            "_model_module": "@jupyter-widgets/controls"
          }
        },
        "564e3773e70a45dcaa497aa026c0f775": {
          "model_module": "@jupyter-widgets/base",
          "model_name": "LayoutModel",
          "model_module_version": "1.2.0",
          "state": {
            "_view_name": "LayoutView",
            "grid_template_rows": null,
            "right": null,
            "justify_content": null,
            "_view_module": "@jupyter-widgets/base",
            "overflow": null,
            "_model_module_version": "1.2.0",
            "_view_count": null,
            "flex_flow": null,
            "width": null,
            "min_width": null,
            "border": null,
            "align_items": null,
            "bottom": null,
            "_model_module": "@jupyter-widgets/base",
            "top": null,
            "grid_column": null,
            "overflow_y": null,
            "overflow_x": null,
            "grid_auto_flow": null,
            "grid_area": null,
            "grid_template_columns": null,
            "flex": null,
            "_model_name": "LayoutModel",
            "justify_items": null,
            "grid_row": null,
            "max_height": null,
            "align_content": null,
            "visibility": null,
            "align_self": null,
            "height": null,
            "min_height": null,
            "padding": null,
            "grid_auto_rows": null,
            "grid_gap": null,
            "max_width": null,
            "order": null,
            "_view_module_version": "1.2.0",
            "grid_template_areas": null,
            "object_position": null,
            "object_fit": null,
            "grid_auto_columns": null,
            "margin": null,
            "display": null,
            "left": null
          }
        },
        "f015908e81604d3686dce23a30324c6b": {
          "model_module": "@jupyter-widgets/controls",
          "model_name": "ProgressStyleModel",
          "model_module_version": "1.5.0",
          "state": {
            "_view_name": "StyleView",
            "_model_name": "ProgressStyleModel",
            "description_width": "",
            "_view_module": "@jupyter-widgets/base",
            "_model_module_version": "1.5.0",
            "_view_count": null,
            "_view_module_version": "1.2.0",
            "bar_color": null,
            "_model_module": "@jupyter-widgets/controls"
          }
        },
        "32f96b00940940e9ae9121955fac8726": {
          "model_module": "@jupyter-widgets/base",
          "model_name": "LayoutModel",
          "model_module_version": "1.2.0",
          "state": {
            "_view_name": "LayoutView",
            "grid_template_rows": null,
            "right": null,
            "justify_content": null,
            "_view_module": "@jupyter-widgets/base",
            "overflow": null,
            "_model_module_version": "1.2.0",
            "_view_count": null,
            "flex_flow": null,
            "width": null,
            "min_width": null,
            "border": null,
            "align_items": null,
            "bottom": null,
            "_model_module": "@jupyter-widgets/base",
            "top": null,
            "grid_column": null,
            "overflow_y": null,
            "overflow_x": null,
            "grid_auto_flow": null,
            "grid_area": null,
            "grid_template_columns": null,
            "flex": null,
            "_model_name": "LayoutModel",
            "justify_items": null,
            "grid_row": null,
            "max_height": null,
            "align_content": null,
            "visibility": null,
            "align_self": null,
            "height": null,
            "min_height": null,
            "padding": null,
            "grid_auto_rows": null,
            "grid_gap": null,
            "max_width": null,
            "order": null,
            "_view_module_version": "1.2.0",
            "grid_template_areas": null,
            "object_position": null,
            "object_fit": null,
            "grid_auto_columns": null,
            "margin": null,
            "display": null,
            "left": null
          }
        },
        "a52aca8ccf2a4341b9160040744e1e32": {
          "model_module": "@jupyter-widgets/controls",
          "model_name": "DescriptionStyleModel",
          "model_module_version": "1.5.0",
          "state": {
            "_view_name": "StyleView",
            "_model_name": "DescriptionStyleModel",
            "description_width": "",
            "_view_module": "@jupyter-widgets/base",
            "_model_module_version": "1.5.0",
            "_view_count": null,
            "_view_module_version": "1.2.0",
            "_model_module": "@jupyter-widgets/controls"
          }
        },
        "1d646e6fdad947d4994c3dbf7838841d": {
          "model_module": "@jupyter-widgets/base",
          "model_name": "LayoutModel",
          "model_module_version": "1.2.0",
          "state": {
            "_view_name": "LayoutView",
            "grid_template_rows": null,
            "right": null,
            "justify_content": null,
            "_view_module": "@jupyter-widgets/base",
            "overflow": null,
            "_model_module_version": "1.2.0",
            "_view_count": null,
            "flex_flow": null,
            "width": null,
            "min_width": null,
            "border": null,
            "align_items": null,
            "bottom": null,
            "_model_module": "@jupyter-widgets/base",
            "top": null,
            "grid_column": null,
            "overflow_y": null,
            "overflow_x": null,
            "grid_auto_flow": null,
            "grid_area": null,
            "grid_template_columns": null,
            "flex": null,
            "_model_name": "LayoutModel",
            "justify_items": null,
            "grid_row": null,
            "max_height": null,
            "align_content": null,
            "visibility": null,
            "align_self": null,
            "height": null,
            "min_height": null,
            "padding": null,
            "grid_auto_rows": null,
            "grid_gap": null,
            "max_width": null,
            "order": null,
            "_view_module_version": "1.2.0",
            "grid_template_areas": null,
            "object_position": null,
            "object_fit": null,
            "grid_auto_columns": null,
            "margin": null,
            "display": null,
            "left": null
          }
        },
        "c4f6119b254c481281c6c36927caaa29": {
          "model_module": "@jupyter-widgets/controls",
          "model_name": "HBoxModel",
          "model_module_version": "1.5.0",
          "state": {
            "_view_name": "HBoxView",
            "_dom_classes": [],
            "_model_name": "HBoxModel",
            "_view_module": "@jupyter-widgets/controls",
            "_model_module_version": "1.5.0",
            "_view_count": null,
            "_view_module_version": "1.5.0",
            "box_style": "",
            "layout": "IPY_MODEL_598f8f82be1c4fa08fda4b70581d7dab",
            "_model_module": "@jupyter-widgets/controls",
            "children": [
              "IPY_MODEL_6af4ee9b1d864da0b12d8d98e544bdab",
              "IPY_MODEL_74d4d07f0b934225bcc6095b689f844f",
              "IPY_MODEL_4552dc3a3cb04c14ba407cca3119d09e"
            ]
          }
        },
        "598f8f82be1c4fa08fda4b70581d7dab": {
          "model_module": "@jupyter-widgets/base",
          "model_name": "LayoutModel",
          "model_module_version": "1.2.0",
          "state": {
            "_view_name": "LayoutView",
            "grid_template_rows": null,
            "right": null,
            "justify_content": null,
            "_view_module": "@jupyter-widgets/base",
            "overflow": null,
            "_model_module_version": "1.2.0",
            "_view_count": null,
            "flex_flow": null,
            "width": null,
            "min_width": null,
            "border": null,
            "align_items": null,
            "bottom": null,
            "_model_module": "@jupyter-widgets/base",
            "top": null,
            "grid_column": null,
            "overflow_y": null,
            "overflow_x": null,
            "grid_auto_flow": null,
            "grid_area": null,
            "grid_template_columns": null,
            "flex": null,
            "_model_name": "LayoutModel",
            "justify_items": null,
            "grid_row": null,
            "max_height": null,
            "align_content": null,
            "visibility": null,
            "align_self": null,
            "height": null,
            "min_height": null,
            "padding": null,
            "grid_auto_rows": null,
            "grid_gap": null,
            "max_width": null,
            "order": null,
            "_view_module_version": "1.2.0",
            "grid_template_areas": null,
            "object_position": null,
            "object_fit": null,
            "grid_auto_columns": null,
            "margin": null,
            "display": null,
            "left": null
          }
        },
        "6af4ee9b1d864da0b12d8d98e544bdab": {
          "model_module": "@jupyter-widgets/controls",
          "model_name": "HTMLModel",
          "model_module_version": "1.5.0",
          "state": {
            "_view_name": "HTMLView",
            "style": "IPY_MODEL_b9a865891bc646f18b52fb31ecfdf6e4",
            "_dom_classes": [],
            "description": "",
            "_model_name": "HTMLModel",
            "placeholder": "​",
            "_view_module": "@jupyter-widgets/controls",
            "_model_module_version": "1.5.0",
            "value": "",
            "_view_count": null,
            "_view_module_version": "1.5.0",
            "description_tooltip": null,
            "_model_module": "@jupyter-widgets/controls",
            "layout": "IPY_MODEL_c973127d314d4b36ae68a79c8606fd2d"
          }
        },
        "74d4d07f0b934225bcc6095b689f844f": {
          "model_module": "@jupyter-widgets/controls",
          "model_name": "FloatProgressModel",
          "model_module_version": "1.5.0",
          "state": {
            "_view_name": "ProgressView",
            "style": "IPY_MODEL_a34a1dd763874d7fa1196a4d31adacb9",
            "_dom_classes": [],
            "description": "",
            "_model_name": "FloatProgressModel",
            "bar_style": "info",
            "max": 1,
            "_view_module": "@jupyter-widgets/controls",
            "_model_module_version": "1.5.0",
            "value": 1,
            "_view_count": null,
            "_view_module_version": "1.5.0",
            "orientation": "horizontal",
            "min": 0,
            "description_tooltip": null,
            "_model_module": "@jupyter-widgets/controls",
            "layout": "IPY_MODEL_43221bbb64d64675beb8d700ae4550af"
          }
        },
        "4552dc3a3cb04c14ba407cca3119d09e": {
          "model_module": "@jupyter-widgets/controls",
          "model_name": "HTMLModel",
          "model_module_version": "1.5.0",
          "state": {
            "_view_name": "HTMLView",
            "style": "IPY_MODEL_195c04346f3848edbbf41736a1b30070",
            "_dom_classes": [],
            "description": "",
            "_model_name": "HTMLModel",
            "placeholder": "​",
            "_view_module": "@jupyter-widgets/controls",
            "_model_module_version": "1.5.0",
            "value": " 9928/0 [00:11&lt;00:00, 885.88 examples/s]",
            "_view_count": null,
            "_view_module_version": "1.5.0",
            "description_tooltip": null,
            "_model_module": "@jupyter-widgets/controls",
            "layout": "IPY_MODEL_414dd35a79c94014971057667d9c3a6f"
          }
        },
        "b9a865891bc646f18b52fb31ecfdf6e4": {
          "model_module": "@jupyter-widgets/controls",
          "model_name": "DescriptionStyleModel",
          "model_module_version": "1.5.0",
          "state": {
            "_view_name": "StyleView",
            "_model_name": "DescriptionStyleModel",
            "description_width": "",
            "_view_module": "@jupyter-widgets/base",
            "_model_module_version": "1.5.0",
            "_view_count": null,
            "_view_module_version": "1.2.0",
            "_model_module": "@jupyter-widgets/controls"
          }
        },
        "c973127d314d4b36ae68a79c8606fd2d": {
          "model_module": "@jupyter-widgets/base",
          "model_name": "LayoutModel",
          "model_module_version": "1.2.0",
          "state": {
            "_view_name": "LayoutView",
            "grid_template_rows": null,
            "right": null,
            "justify_content": null,
            "_view_module": "@jupyter-widgets/base",
            "overflow": null,
            "_model_module_version": "1.2.0",
            "_view_count": null,
            "flex_flow": null,
            "width": null,
            "min_width": null,
            "border": null,
            "align_items": null,
            "bottom": null,
            "_model_module": "@jupyter-widgets/base",
            "top": null,
            "grid_column": null,
            "overflow_y": null,
            "overflow_x": null,
            "grid_auto_flow": null,
            "grid_area": null,
            "grid_template_columns": null,
            "flex": null,
            "_model_name": "LayoutModel",
            "justify_items": null,
            "grid_row": null,
            "max_height": null,
            "align_content": null,
            "visibility": null,
            "align_self": null,
            "height": null,
            "min_height": null,
            "padding": null,
            "grid_auto_rows": null,
            "grid_gap": null,
            "max_width": null,
            "order": null,
            "_view_module_version": "1.2.0",
            "grid_template_areas": null,
            "object_position": null,
            "object_fit": null,
            "grid_auto_columns": null,
            "margin": null,
            "display": null,
            "left": null
          }
        },
        "a34a1dd763874d7fa1196a4d31adacb9": {
          "model_module": "@jupyter-widgets/controls",
          "model_name": "ProgressStyleModel",
          "model_module_version": "1.5.0",
          "state": {
            "_view_name": "StyleView",
            "_model_name": "ProgressStyleModel",
            "description_width": "",
            "_view_module": "@jupyter-widgets/base",
            "_model_module_version": "1.5.0",
            "_view_count": null,
            "_view_module_version": "1.2.0",
            "bar_color": null,
            "_model_module": "@jupyter-widgets/controls"
          }
        },
        "43221bbb64d64675beb8d700ae4550af": {
          "model_module": "@jupyter-widgets/base",
          "model_name": "LayoutModel",
          "model_module_version": "1.2.0",
          "state": {
            "_view_name": "LayoutView",
            "grid_template_rows": null,
            "right": null,
            "justify_content": null,
            "_view_module": "@jupyter-widgets/base",
            "overflow": null,
            "_model_module_version": "1.2.0",
            "_view_count": null,
            "flex_flow": null,
            "width": "20px",
            "min_width": null,
            "border": null,
            "align_items": null,
            "bottom": null,
            "_model_module": "@jupyter-widgets/base",
            "top": null,
            "grid_column": null,
            "overflow_y": null,
            "overflow_x": null,
            "grid_auto_flow": null,
            "grid_area": null,
            "grid_template_columns": null,
            "flex": null,
            "_model_name": "LayoutModel",
            "justify_items": null,
            "grid_row": null,
            "max_height": null,
            "align_content": null,
            "visibility": null,
            "align_self": null,
            "height": null,
            "min_height": null,
            "padding": null,
            "grid_auto_rows": null,
            "grid_gap": null,
            "max_width": null,
            "order": null,
            "_view_module_version": "1.2.0",
            "grid_template_areas": null,
            "object_position": null,
            "object_fit": null,
            "grid_auto_columns": null,
            "margin": null,
            "display": null,
            "left": null
          }
        },
        "195c04346f3848edbbf41736a1b30070": {
          "model_module": "@jupyter-widgets/controls",
          "model_name": "DescriptionStyleModel",
          "model_module_version": "1.5.0",
          "state": {
            "_view_name": "StyleView",
            "_model_name": "DescriptionStyleModel",
            "description_width": "",
            "_view_module": "@jupyter-widgets/base",
            "_model_module_version": "1.5.0",
            "_view_count": null,
            "_view_module_version": "1.2.0",
            "_model_module": "@jupyter-widgets/controls"
          }
        },
        "414dd35a79c94014971057667d9c3a6f": {
          "model_module": "@jupyter-widgets/base",
          "model_name": "LayoutModel",
          "model_module_version": "1.2.0",
          "state": {
            "_view_name": "LayoutView",
            "grid_template_rows": null,
            "right": null,
            "justify_content": null,
            "_view_module": "@jupyter-widgets/base",
            "overflow": null,
            "_model_module_version": "1.2.0",
            "_view_count": null,
            "flex_flow": null,
            "width": null,
            "min_width": null,
            "border": null,
            "align_items": null,
            "bottom": null,
            "_model_module": "@jupyter-widgets/base",
            "top": null,
            "grid_column": null,
            "overflow_y": null,
            "overflow_x": null,
            "grid_auto_flow": null,
            "grid_area": null,
            "grid_template_columns": null,
            "flex": null,
            "_model_name": "LayoutModel",
            "justify_items": null,
            "grid_row": null,
            "max_height": null,
            "align_content": null,
            "visibility": null,
            "align_self": null,
            "height": null,
            "min_height": null,
            "padding": null,
            "grid_auto_rows": null,
            "grid_gap": null,
            "max_width": null,
            "order": null,
            "_view_module_version": "1.2.0",
            "grid_template_areas": null,
            "object_position": null,
            "object_fit": null,
            "grid_auto_columns": null,
            "margin": null,
            "display": null,
            "left": null
          }
        },
        "967df5bd15bd4408a028e8e35ec25ee2": {
          "model_module": "@jupyter-widgets/controls",
          "model_name": "HBoxModel",
          "model_module_version": "1.5.0",
          "state": {
            "_view_name": "HBoxView",
            "_dom_classes": [],
            "_model_name": "HBoxModel",
            "_view_module": "@jupyter-widgets/controls",
            "_model_module_version": "1.5.0",
            "_view_count": null,
            "_view_module_version": "1.5.0",
            "box_style": "",
            "layout": "IPY_MODEL_3799f106fbb44488978c10feb44ab902",
            "_model_module": "@jupyter-widgets/controls",
            "children": [
              "IPY_MODEL_67be2839dee541ab9505996d0eb09b62",
              "IPY_MODEL_cfc2c7df8c634de7aa824dc58abd1966",
              "IPY_MODEL_58c0958bee4c41878a799f749d533511"
            ]
          }
        },
        "3799f106fbb44488978c10feb44ab902": {
          "model_module": "@jupyter-widgets/base",
          "model_name": "LayoutModel",
          "model_module_version": "1.2.0",
          "state": {
            "_view_name": "LayoutView",
            "grid_template_rows": null,
            "right": null,
            "justify_content": null,
            "_view_module": "@jupyter-widgets/base",
            "overflow": null,
            "_model_module_version": "1.2.0",
            "_view_count": null,
            "flex_flow": null,
            "width": null,
            "min_width": null,
            "border": null,
            "align_items": null,
            "bottom": null,
            "_model_module": "@jupyter-widgets/base",
            "top": null,
            "grid_column": null,
            "overflow_y": null,
            "overflow_x": null,
            "grid_auto_flow": null,
            "grid_area": null,
            "grid_template_columns": null,
            "flex": null,
            "_model_name": "LayoutModel",
            "justify_items": null,
            "grid_row": null,
            "max_height": null,
            "align_content": null,
            "visibility": null,
            "align_self": null,
            "height": null,
            "min_height": null,
            "padding": null,
            "grid_auto_rows": null,
            "grid_gap": null,
            "max_width": null,
            "order": null,
            "_view_module_version": "1.2.0",
            "grid_template_areas": null,
            "object_position": null,
            "object_fit": null,
            "grid_auto_columns": null,
            "margin": null,
            "display": null,
            "left": null
          }
        },
        "67be2839dee541ab9505996d0eb09b62": {
          "model_module": "@jupyter-widgets/controls",
          "model_name": "HTMLModel",
          "model_module_version": "1.5.0",
          "state": {
            "_view_name": "HTMLView",
            "style": "IPY_MODEL_e91be63d49a047c686670b864a2e0034",
            "_dom_classes": [],
            "description": "",
            "_model_name": "HTMLModel",
            "placeholder": "​",
            "_view_module": "@jupyter-widgets/controls",
            "_model_module_version": "1.5.0",
            "value": "100%",
            "_view_count": null,
            "_view_module_version": "1.5.0",
            "description_tooltip": null,
            "_model_module": "@jupyter-widgets/controls",
            "layout": "IPY_MODEL_a12b0cc8115f4af0aff10dbf2f95ddf5"
          }
        },
        "cfc2c7df8c634de7aa824dc58abd1966": {
          "model_module": "@jupyter-widgets/controls",
          "model_name": "FloatProgressModel",
          "model_module_version": "1.5.0",
          "state": {
            "_view_name": "ProgressView",
            "style": "IPY_MODEL_36cd26b7bb9342cba144af5eccc01adf",
            "_dom_classes": [],
            "description": "",
            "_model_name": "FloatProgressModel",
            "bar_style": "danger",
            "max": 10000,
            "_view_module": "@jupyter-widgets/controls",
            "_model_module_version": "1.5.0",
            "value": 9999,
            "_view_count": null,
            "_view_module_version": "1.5.0",
            "orientation": "horizontal",
            "min": 0,
            "description_tooltip": null,
            "_model_module": "@jupyter-widgets/controls",
            "layout": "IPY_MODEL_ec7d2afcce9a4f3285a15f49bf104700"
          }
        },
        "58c0958bee4c41878a799f749d533511": {
          "model_module": "@jupyter-widgets/controls",
          "model_name": "HTMLModel",
          "model_module_version": "1.5.0",
          "state": {
            "_view_name": "HTMLView",
            "style": "IPY_MODEL_12218e03742f49399feec94d5cc5ef5f",
            "_dom_classes": [],
            "description": "",
            "_model_name": "HTMLModel",
            "placeholder": "​",
            "_view_module": "@jupyter-widgets/controls",
            "_model_module_version": "1.5.0",
            "value": " 9999/10000 [00:00&lt;00:00, 39555.32 examples/s]",
            "_view_count": null,
            "_view_module_version": "1.5.0",
            "description_tooltip": null,
            "_model_module": "@jupyter-widgets/controls",
            "layout": "IPY_MODEL_d5c3842026b44b9e8c9f30aba00a6246"
          }
        },
        "e91be63d49a047c686670b864a2e0034": {
          "model_module": "@jupyter-widgets/controls",
          "model_name": "DescriptionStyleModel",
          "model_module_version": "1.5.0",
          "state": {
            "_view_name": "StyleView",
            "_model_name": "DescriptionStyleModel",
            "description_width": "",
            "_view_module": "@jupyter-widgets/base",
            "_model_module_version": "1.5.0",
            "_view_count": null,
            "_view_module_version": "1.2.0",
            "_model_module": "@jupyter-widgets/controls"
          }
        },
        "a12b0cc8115f4af0aff10dbf2f95ddf5": {
          "model_module": "@jupyter-widgets/base",
          "model_name": "LayoutModel",
          "model_module_version": "1.2.0",
          "state": {
            "_view_name": "LayoutView",
            "grid_template_rows": null,
            "right": null,
            "justify_content": null,
            "_view_module": "@jupyter-widgets/base",
            "overflow": null,
            "_model_module_version": "1.2.0",
            "_view_count": null,
            "flex_flow": null,
            "width": null,
            "min_width": null,
            "border": null,
            "align_items": null,
            "bottom": null,
            "_model_module": "@jupyter-widgets/base",
            "top": null,
            "grid_column": null,
            "overflow_y": null,
            "overflow_x": null,
            "grid_auto_flow": null,
            "grid_area": null,
            "grid_template_columns": null,
            "flex": null,
            "_model_name": "LayoutModel",
            "justify_items": null,
            "grid_row": null,
            "max_height": null,
            "align_content": null,
            "visibility": null,
            "align_self": null,
            "height": null,
            "min_height": null,
            "padding": null,
            "grid_auto_rows": null,
            "grid_gap": null,
            "max_width": null,
            "order": null,
            "_view_module_version": "1.2.0",
            "grid_template_areas": null,
            "object_position": null,
            "object_fit": null,
            "grid_auto_columns": null,
            "margin": null,
            "display": null,
            "left": null
          }
        },
        "36cd26b7bb9342cba144af5eccc01adf": {
          "model_module": "@jupyter-widgets/controls",
          "model_name": "ProgressStyleModel",
          "model_module_version": "1.5.0",
          "state": {
            "_view_name": "StyleView",
            "_model_name": "ProgressStyleModel",
            "description_width": "",
            "_view_module": "@jupyter-widgets/base",
            "_model_module_version": "1.5.0",
            "_view_count": null,
            "_view_module_version": "1.2.0",
            "bar_color": null,
            "_model_module": "@jupyter-widgets/controls"
          }
        },
        "ec7d2afcce9a4f3285a15f49bf104700": {
          "model_module": "@jupyter-widgets/base",
          "model_name": "LayoutModel",
          "model_module_version": "1.2.0",
          "state": {
            "_view_name": "LayoutView",
            "grid_template_rows": null,
            "right": null,
            "justify_content": null,
            "_view_module": "@jupyter-widgets/base",
            "overflow": null,
            "_model_module_version": "1.2.0",
            "_view_count": null,
            "flex_flow": null,
            "width": null,
            "min_width": null,
            "border": null,
            "align_items": null,
            "bottom": null,
            "_model_module": "@jupyter-widgets/base",
            "top": null,
            "grid_column": null,
            "overflow_y": null,
            "overflow_x": null,
            "grid_auto_flow": null,
            "grid_area": null,
            "grid_template_columns": null,
            "flex": null,
            "_model_name": "LayoutModel",
            "justify_items": null,
            "grid_row": null,
            "max_height": null,
            "align_content": null,
            "visibility": null,
            "align_self": null,
            "height": null,
            "min_height": null,
            "padding": null,
            "grid_auto_rows": null,
            "grid_gap": null,
            "max_width": null,
            "order": null,
            "_view_module_version": "1.2.0",
            "grid_template_areas": null,
            "object_position": null,
            "object_fit": null,
            "grid_auto_columns": null,
            "margin": null,
            "display": null,
            "left": null
          }
        },
        "12218e03742f49399feec94d5cc5ef5f": {
          "model_module": "@jupyter-widgets/controls",
          "model_name": "DescriptionStyleModel",
          "model_module_version": "1.5.0",
          "state": {
            "_view_name": "StyleView",
            "_model_name": "DescriptionStyleModel",
            "description_width": "",
            "_view_module": "@jupyter-widgets/base",
            "_model_module_version": "1.5.0",
            "_view_count": null,
            "_view_module_version": "1.2.0",
            "_model_module": "@jupyter-widgets/controls"
          }
        },
        "d5c3842026b44b9e8c9f30aba00a6246": {
          "model_module": "@jupyter-widgets/base",
          "model_name": "LayoutModel",
          "model_module_version": "1.2.0",
          "state": {
            "_view_name": "LayoutView",
            "grid_template_rows": null,
            "right": null,
            "justify_content": null,
            "_view_module": "@jupyter-widgets/base",
            "overflow": null,
            "_model_module_version": "1.2.0",
            "_view_count": null,
            "flex_flow": null,
            "width": null,
            "min_width": null,
            "border": null,
            "align_items": null,
            "bottom": null,
            "_model_module": "@jupyter-widgets/base",
            "top": null,
            "grid_column": null,
            "overflow_y": null,
            "overflow_x": null,
            "grid_auto_flow": null,
            "grid_area": null,
            "grid_template_columns": null,
            "flex": null,
            "_model_name": "LayoutModel",
            "justify_items": null,
            "grid_row": null,
            "max_height": null,
            "align_content": null,
            "visibility": null,
            "align_self": null,
            "height": null,
            "min_height": null,
            "padding": null,
            "grid_auto_rows": null,
            "grid_gap": null,
            "max_width": null,
            "order": null,
            "_view_module_version": "1.2.0",
            "grid_template_areas": null,
            "object_position": null,
            "object_fit": null,
            "grid_auto_columns": null,
            "margin": null,
            "display": null,
            "left": null
          }
        }
      }
    }
  },
  "cells": [
    {
      "cell_type": "markdown",
      "metadata": {
        "id": "view-in-github",
        "colab_type": "text"
      },
      "source": [
        "<a href=\"https://colab.research.google.com/github/barrytl/CE6003/blob/master/Etivity_assignment2.ipynb\" target=\"_parent\"><img src=\"https://colab.research.google.com/assets/colab-badge.svg\" alt=\"Open In Colab\"/></a>"
      ]
    },
    {
      "cell_type": "markdown",
      "metadata": {
        "id": "qMd1Rc3eDwBP"
      },
      "source": [
        "# Etivity 2: Deep Convolutional Neural Network on CIFAR-10 Dataset\n",
        "\n",
        "In this assignment, we will gain some practical experience of coding a deep convolutional neural network in Tensorflow. The simplest way to code a network is to use the High level Keras API within Tensorflow 2.5.  \n",
        "\n",
        "## (a) Introduction\n",
        "\n",
        " In this assignment to reduce training time and computation, we will train our network using the simple [CIFAR10](https://www.cs.toronto.edu/~kriz/cifar.html) dataset.\n",
        "![link text](https://paperswithcode.com/media/datasets/CIFAR-10-0000000431-b71f61c0_U5n3Glr.jpg)\n",
        "\n",
        "The goal of this Etivity is to build and train your own Deep Convolutional Neural Network. This notebook contains standard keras/Tensorflow code to perform data processing, training set up and testing metrics, as outlined in the steps below. This will allow you to focus on developing the architecture & code for your network. \n",
        "\n",
        "1. Load Dataset - We will import the CIFAR-10 Dataset using the Tensorflow Data Set API.\n",
        "2. Prepare Data - We will slightly modify the dataset before it is sent to the model for training.\n",
        "3. Model Coding - We will write code to build the model using the Tensorflow keras API.\n",
        "  * **You will code your neural network model in this section**\n",
        "4. Compile Model - We will complile the model and verify that it has been correctly constructed.\n",
        "5. Train Model - We will train the model using the imported dataset.\n",
        "6. Test Model - We test the model on the training data and obtain a classification report and confusion matrix.\n",
        "\n",
        "The principal resource for understanding the basics of how to code & train Deep Convolutional Neural Network architectures in Tensorflow/keras are the Tensorflow tutorials. Tutorials on [image classification](https://www.tensorflow.org/tutorials/images/classification) and [data augmentation](https://www.tensorflow.org/tutorials/images/data_augmentation) are useful for this Etivity.  "
      ]
    },
    {
      "cell_type": "markdown",
      "metadata": {
        "id": "XKjhi09Kfwem"
      },
      "source": [
        "\n",
        "## (b) Notes on Architecture selection & development\n",
        "\n",
        "A key task in this Etivity is selecting an appropriate architecture. You can base your archicture on any of the types seen in the lecture notes or published literature. It is however recommended to ensure you can get a standard CNN type architecture to successfully train before attempting a more complex architecture or adding further enhancements to your network to improve performance.\n",
        "   Many published networks are designed to work with larger sized input images (e.g. 224 x 224). Often large (e.g. 7 x 7) convolution kernels and pooling layers are first applied to the input image, which agressively reduce the spatial dimensions of the network. As the CIFAR-10 dataset only has 32 x 32 images, it is recommended that just an intial 3 x 3 convolution is applied to the input image (as shown in the figure below), which will preserve the spatial dimensions of the input, before any other layers are added. It is expected that as you add more layers to the network the spatial dimensions will reduce and there will also be a corresponding increase the number of channels of the output feature map. The architecture will end with a [global average pooling layer](https://arxiv.org/pdf/1312.4400.pdf) and a fully-connected layer (called a *dense* layer in Keras/Tensorflow) with softmax activation which gives us our 10 class predictions. A skeleton code has been provided for any general architure using this structure in section 3.\n",
        "![link text](https://github.com/tonyscan6003/CE6003/blob/master/images/Architecture_outline.jpg?raw=true)\n"
      ]
    },
    {
      "cell_type": "markdown",
      "metadata": {
        "id": "-usCVtcvZ1jF"
      },
      "source": [
        "#House Keeping"
      ]
    },
    {
      "cell_type": "code",
      "metadata": {
        "id": "HCZcWwiaDOGa"
      },
      "source": [
        "from __future__ import print_function\n",
        "\n",
        "%tensorflow_version 2.x\n",
        "import tensorflow as tf\n",
        "import matplotlib.pyplot as plt\n",
        "import tensorflow.keras as keras\n",
        "from tensorflow.keras.layers import Dense, Conv2D, BatchNormalization, Activation\n",
        "from tensorflow.keras.layers import GlobalAveragePooling2D,AveragePooling2D, Input, Flatten, MaxPooling2D, add\n",
        "from tensorflow.keras.optimizers import Adam\n",
        "from tensorflow.keras.regularizers import l2\n",
        "from tensorflow.keras import backend as K\n",
        "from tensorflow.keras.models import Model\n",
        "from tensorflow.keras.datasets import cifar10\n",
        "\n",
        "import numpy as np"
      ],
      "execution_count": 82,
      "outputs": []
    },
    {
      "cell_type": "markdown",
      "metadata": {
        "id": "4odR82ILcVxX"
      },
      "source": [
        "To ensure this assignment runs as fast as possible, from the menu above select **Edit > Notebook settings** or **Runtime > Change runtime type** and select GPU as the Hardware accelerator option.\n",
        "\n",
        "Let's test that we are running using the GPU. "
      ]
    },
    {
      "cell_type": "code",
      "metadata": {
        "id": "pf087-5LcYXc",
        "colab": {
          "base_uri": "https://localhost:8080/",
          "height": 36
        },
        "outputId": "141d7ce2-d48f-482d-882c-3ab066fa9e08"
      },
      "source": [
        "tf.test.gpu_device_name()"
      ],
      "execution_count": 4,
      "outputs": [
        {
          "output_type": "execute_result",
          "data": {
            "application/vnd.google.colaboratory.intrinsic+json": {
              "type": "string"
            },
            "text/plain": [
              "'/device:GPU:0'"
            ]
          },
          "metadata": {},
          "execution_count": 4
        }
      ]
    },
    {
      "cell_type": "markdown",
      "metadata": {
        "id": "U1AqzPcvPIMZ"
      },
      "source": [
        "#1. Load Dataset\n",
        "\n",
        "In this assignment, we will be using the [CIFAR-10 dataset](http://www.cs.toronto.edu/~kriz/cifar.htmlhttps://). CIFAR-10 is often used as a \"Hello World\" dataset that is often used to ensure a network architecture is working before moving on to training with more complex datasets.\n",
        "\n",
        "The CIFAR-10 dataset consists of 60,000 32x32 color images in 10 classes (airplane, automobile, **bird**, cat, deer, dog, frog, horse, ship, truck), with 6,000 images per class. There are 50,000 training images and 10,000 test images. \n",
        "\n",
        "We will use the [Tensorflow dataset](https://www.tensorflow.org/datasets/catalog/cifar10) API to download the CIFAR10 dataset."
      ]
    },
    {
      "cell_type": "code",
      "metadata": {
        "id": "dBHnROl5fL2B"
      },
      "source": [
        "batch_size = 32 # Default Batch size (can be adjusted)\n",
        "H_trg =32       # Image Height (fixed)\n",
        "W_trg =32       # image Width (fixed)\n",
        "\n",
        "# Labels corresponding to categories\n",
        "label_str = ('airplane', 'automobile', 'bird', 'cat', 'deer', 'dog', 'frog', 'horse', 'ship', 'truck')"
      ],
      "execution_count": 5,
      "outputs": []
    },
    {
      "cell_type": "code",
      "metadata": {
        "id": "Ld6vWvOVeqN0",
        "colab": {
          "base_uri": "https://localhost:8080/",
          "height": 370,
          "referenced_widgets": [
            "a7e25d524a364d4a8591ddfb3b38ea00",
            "dc30c5bca2164e22a91f1a1b3abd2814",
            "4f43327d67d54b92ac5ac248734f0008",
            "63e7639bc4b741ad95cf13e1d135342d",
            "726d51cfc3854e45aa368d29a33e961f",
            "65b64f0e43bd4d68a9aaa5199a340a57",
            "86d716aa1e1e499f9409d16ed3064722",
            "645a1811e4a641a38981df441fadd023",
            "97c9e6e01d2144088f6acf72e821a89e",
            "dc2a099cced8422abdcd7d9a72df8c5c",
            "e24d5bbc708547fe84a7a49fc42164d0",
            "0ad1859cc03e4817acae7d823eee059e",
            "f0bab9bf1b98447b9ff2585eb468aaf1",
            "d48fcf5e95e04052b1baf5eb91b1a5f2",
            "24918bb145c84477b250badcfc8bd553",
            "00002251122942788e582cb6c56f60ad",
            "33f6b34b80ab407fab63f1191db432f0",
            "340e6481c1ff4eb7981900c78c785620",
            "bdb225f2793e4ac48a371c461d6891a4",
            "dab8f0e92f51452ca36f8b08412237f6",
            "a4621409ee894c658d5067c949d89b47",
            "77436f5e147e458197b5830c877705da",
            "d11e28e1014d4586b06ee0eb7731bac0",
            "b04da01620354b5c9713d0b3b5a5ba54",
            "be713aedaae94dce8d694c62b4a39b6e",
            "5d18fc75e44d4e0b8de50cc7bf69a649",
            "6611ea2a30cb4bf0b89b9bea2f2ea76f",
            "01b10fe513be4eda8c4bb8ef580e28bf",
            "6728c357f7244a979833f4d4346d2ab8",
            "ab8de00f965b45b4918495101625fbdc",
            "8c3a09ea87744f48a5d39cd69c0df47d",
            "3f0cbff3ca534c49924b3b74a285f932",
            "7a2a568751954067b734d084cfa6700f",
            "5873ac74a9cc44109a3616ae1ed2c45e",
            "ed84a2388b4d47b283c656cbd88bb1fd",
            "b7503152bcb64165b4d44f84c524eb70",
            "1074454a16434c19abcb595d435e5abd",
            "e03b3b2ae5ad4aab95638a86f8264c2c",
            "44fcd5393d974c6dbd23aad6f3671311",
            "7553e5ee91fb4c928af337a0b3b149d8",
            "dcc859f7deb64114b202f13877b08e9d",
            "6594abcc1f764713af7b4b2c0c2d4837",
            "26ebdbb7aa3e40f9a8e5b12cfa9f14e3",
            "f2aabab80b664cc08857bcd85e9727de",
            "28dac3f36c594b82a1926da81253d8bb",
            "5d546a8f22dc4fdc8f58d9157a0a35be",
            "8acfb46381fe4eb1867136ab326cfc85",
            "32de2a1a0f1f44c6be9d638dbcad2204",
            "53debdfa7e90418f92d5a3c57f7fedf2",
            "2191c002e2534e4dafcca7e4c1e5f8f0",
            "564e3773e70a45dcaa497aa026c0f775",
            "f015908e81604d3686dce23a30324c6b",
            "32f96b00940940e9ae9121955fac8726",
            "a52aca8ccf2a4341b9160040744e1e32",
            "1d646e6fdad947d4994c3dbf7838841d",
            "c4f6119b254c481281c6c36927caaa29",
            "598f8f82be1c4fa08fda4b70581d7dab",
            "6af4ee9b1d864da0b12d8d98e544bdab",
            "74d4d07f0b934225bcc6095b689f844f",
            "4552dc3a3cb04c14ba407cca3119d09e",
            "b9a865891bc646f18b52fb31ecfdf6e4",
            "c973127d314d4b36ae68a79c8606fd2d",
            "a34a1dd763874d7fa1196a4d31adacb9",
            "43221bbb64d64675beb8d700ae4550af",
            "195c04346f3848edbbf41736a1b30070",
            "414dd35a79c94014971057667d9c3a6f",
            "967df5bd15bd4408a028e8e35ec25ee2",
            "3799f106fbb44488978c10feb44ab902",
            "67be2839dee541ab9505996d0eb09b62",
            "cfc2c7df8c634de7aa824dc58abd1966",
            "58c0958bee4c41878a799f749d533511",
            "e91be63d49a047c686670b864a2e0034",
            "a12b0cc8115f4af0aff10dbf2f95ddf5",
            "36cd26b7bb9342cba144af5eccc01adf",
            "ec7d2afcce9a4f3285a15f49bf104700",
            "12218e03742f49399feec94d5cc5ef5f",
            "d5c3842026b44b9e8c9f30aba00a6246"
          ]
        },
        "outputId": "a88ed0ea-8081-407b-e7de-d78249481e92"
      },
      "source": [
        "# We initally load the raw training/validation/test dataset\n",
        "import tensorflow_datasets as tfds\n",
        "ds,info= tfds.load(\"cifar10\",with_info=True)\n",
        "\n",
        "raw_train = tfds.load('cifar10', split='train[0%:90%]')\n",
        "raw_val = tfds.load('cifar10', split='train[91%:100%]')\n",
        "raw_test = tfds.load('cifar10', split='test')"
      ],
      "execution_count": 6,
      "outputs": [
        {
          "output_type": "stream",
          "name": "stdout",
          "text": [
            "\u001b[1mDownloading and preparing dataset cifar10/3.0.2 (download: 162.17 MiB, generated: 132.40 MiB, total: 294.58 MiB) to /root/tensorflow_datasets/cifar10/3.0.2...\u001b[0m\n"
          ]
        },
        {
          "output_type": "display_data",
          "data": {
            "application/vnd.jupyter.widget-view+json": {
              "model_id": "a7e25d524a364d4a8591ddfb3b38ea00",
              "version_minor": 0,
              "version_major": 2
            },
            "text/plain": [
              "Dl Completed...: 0 url [00:00, ? url/s]"
            ]
          },
          "metadata": {}
        },
        {
          "output_type": "display_data",
          "data": {
            "application/vnd.jupyter.widget-view+json": {
              "model_id": "0ad1859cc03e4817acae7d823eee059e",
              "version_minor": 0,
              "version_major": 2
            },
            "text/plain": [
              "Dl Size...: 0 MiB [00:00, ? MiB/s]"
            ]
          },
          "metadata": {}
        },
        {
          "output_type": "display_data",
          "data": {
            "application/vnd.jupyter.widget-view+json": {
              "model_id": "d11e28e1014d4586b06ee0eb7731bac0",
              "version_minor": 0,
              "version_major": 2
            },
            "text/plain": [
              "Extraction completed...: 0 file [00:00, ? file/s]"
            ]
          },
          "metadata": {}
        },
        {
          "output_type": "stream",
          "name": "stdout",
          "text": [
            "\n",
            "\n",
            "\n"
          ]
        },
        {
          "output_type": "display_data",
          "data": {
            "application/vnd.jupyter.widget-view+json": {
              "model_id": "5873ac74a9cc44109a3616ae1ed2c45e",
              "version_minor": 0,
              "version_major": 2
            },
            "text/plain": [
              "0 examples [00:00, ? examples/s]"
            ]
          },
          "metadata": {}
        },
        {
          "output_type": "stream",
          "name": "stdout",
          "text": [
            "Shuffling and writing examples to /root/tensorflow_datasets/cifar10/3.0.2.incompleteIKJMNM/cifar10-train.tfrecord\n"
          ]
        },
        {
          "output_type": "display_data",
          "data": {
            "application/vnd.jupyter.widget-view+json": {
              "model_id": "28dac3f36c594b82a1926da81253d8bb",
              "version_minor": 0,
              "version_major": 2
            },
            "text/plain": [
              "  0%|          | 0/50000 [00:00<?, ? examples/s]"
            ]
          },
          "metadata": {}
        },
        {
          "output_type": "display_data",
          "data": {
            "application/vnd.jupyter.widget-view+json": {
              "model_id": "c4f6119b254c481281c6c36927caaa29",
              "version_minor": 0,
              "version_major": 2
            },
            "text/plain": [
              "0 examples [00:00, ? examples/s]"
            ]
          },
          "metadata": {}
        },
        {
          "output_type": "stream",
          "name": "stdout",
          "text": [
            "Shuffling and writing examples to /root/tensorflow_datasets/cifar10/3.0.2.incompleteIKJMNM/cifar10-test.tfrecord\n"
          ]
        },
        {
          "output_type": "display_data",
          "data": {
            "application/vnd.jupyter.widget-view+json": {
              "model_id": "967df5bd15bd4408a028e8e35ec25ee2",
              "version_minor": 0,
              "version_major": 2
            },
            "text/plain": [
              "  0%|          | 0/10000 [00:00<?, ? examples/s]"
            ]
          },
          "metadata": {}
        },
        {
          "output_type": "stream",
          "name": "stdout",
          "text": [
            "\u001b[1mDataset cifar10 downloaded and prepared to /root/tensorflow_datasets/cifar10/3.0.2. Subsequent calls will reuse this data.\u001b[0m\n"
          ]
        }
      ]
    },
    {
      "cell_type": "markdown",
      "metadata": {
        "id": "5B4yeoJHft0Y"
      },
      "source": [
        "# 2. Prepare Data\n",
        "\n",
        "After importing raw datasets using tfds load, we create an input pipeline that processes & batches this data before it is supplied to the model for training using the virtual machine GPU."
      ]
    },
    {
      "cell_type": "code",
      "metadata": {
        "id": "f6PNR8vgetEi"
      },
      "source": [
        "def data_pipe(image,label):\n",
        "  image = tf.image.convert_image_dtype(image, tf.float32) # Cast and normalize the image to [0,1]\n",
        "  image = image-0.5 \n",
        "  label = tf.cast(label, tf.float32)\n",
        "  return image,label\n"
      ],
      "execution_count": 43,
      "outputs": []
    },
    {
      "cell_type": "code",
      "metadata": {
        "id": "WNzCKI8ffVSK"
      },
      "source": [
        "def gen_tr_datasets(src_dataset):    \n",
        "    # Define Datasets \n",
        "    #src_dataset = src_dataset.shuffle(num_train_examples) \n",
        "    tr_dataset = src_dataset.map(lambda x: (x['image'],x['label']))  \n",
        "    tr_dataset = tr_dataset.map(data_pipe)\n",
        "    tr_dataset = tr_dataset.batch(batch_size) \n",
        "    return tr_dataset\n",
        "\n",
        "def gen_val_datasets(src_dataset): \n",
        "    # Define Datasets \n",
        "    test_dataset = src_dataset.map(lambda x: (x['image'],x['label']))  \n",
        "    test_dataset = test_dataset.map(data_pipe)\n",
        "    test_dataset = test_dataset.batch(batch_size) \n",
        "    return test_dataset\n",
        "# Generate the datasets\n",
        "train_dataset = gen_tr_datasets(raw_train)\n",
        "val_dataset = gen_val_datasets(raw_val)\n",
        "test_dataset = gen_val_datasets(raw_test)"
      ],
      "execution_count": 44,
      "outputs": []
    },
    {
      "cell_type": "markdown",
      "metadata": {
        "id": "Cj_HusiXhura"
      },
      "source": [
        "Plot some examples of the training dataset."
      ]
    },
    {
      "cell_type": "code",
      "metadata": {
        "colab": {
          "base_uri": "https://localhost:8080/"
        },
        "id": "cdfk1BEx_wDv",
        "outputId": "dedb347d-b1b9-4221-aeee-3a1392c7fa51"
      },
      "source": [
        "#image[0,:,:,:]\n",
        "type(train_dataset)"
      ],
      "execution_count": 57,
      "outputs": [
        {
          "output_type": "execute_result",
          "data": {
            "text/plain": [
              "tensorflow.python.data.ops.dataset_ops.BatchDataset"
            ]
          },
          "metadata": {},
          "execution_count": 57
        }
      ]
    },
    {
      "cell_type": "code",
      "metadata": {
        "id": "i4N4NNA9fZMU",
        "colab": {
          "base_uri": "https://localhost:8080/",
          "height": 125
        },
        "outputId": "f46f9223-ab84-42aa-baf2-1c448d8cfbc8"
      },
      "source": [
        "i=0\n",
        "n_plots = 12 # number of plots\n",
        "f, axarr = plt.subplots(1,n_plots,figsize=(20,10))\n",
        "\n",
        "for image, label in train_dataset.take(n_plots):  # Only take a single example\n",
        "  axarr[i].imshow(image[0,:,:,:]+0.5)  #*255)   #+128   \n",
        "  axarr[i].axis('off')\n",
        "  axarr[i].title.set_text(label_str[int(label[0])])\n",
        "  i = i+1\n",
        "\n"
      ],
      "execution_count": 46,
      "outputs": [
        {
          "output_type": "display_data",
          "data": {
            "image/png": "[encoded data removed]",
            "text/plain": [
              "<Figure size 1440x720 with 12 Axes>"
            ]
          },
          "metadata": {
            "needs_background": "light"
          }
        }
      ]
    },
    {
      "cell_type": "markdown",
      "metadata": {
        "id": "UfRKrY53rCdh"
      },
      "source": [
        "# 3. Model Coding\n",
        "\n",
        "In this section You may develop your own model architecture to perform image recognition with the CIFAR-10 Dataset.\n",
        "\n",
        "There are some recommendations and helper code in this section that you may choose use, or you can also use your own approach to creating your architecture. \n",
        "\n",
        "Please Leave a note at the end of the notebook explaining your approach/results for the e-moderator."
      ]
    },
    {
      "cell_type": "markdown",
      "metadata": {
        "id": "Or_1E25YFrdA"
      },
      "source": [
        "\n",
        "\n",
        "\n",
        "\n",
        " \n",
        "## Note 1: Keras Function/Sequential API\n",
        "\n",
        "Within Keras there are two API's for coding network models: Sequential and functional. You may have already used the [seqential model](https://https://www.tensorflow.org/guide/keras/sequential_model) to code basic artifical neural networks. The [functional model](https://www.tensorflow.org/guide/keras/functional) is more general and enables us to include feedforward paths which are required to code more advanced networks such as ResNet or DenseNet. The functional API has been used to code the helper functions repeating unit/top level skeleton detailed below.\n",
        "\n",
        "## Note 2: Repeating Unit\n",
        "\n",
        "In many Deep architectures there will often be a repeating unit(s) that is composed of a sequence of layers, for example Conv,ReLU & Batch Normalisation. Specific layers can be turned on or off as required. This also allows experimentation of the entire architecture with/without specific layers (e.g. Batch Normalisation)  You may wish to create other combinations of layers or additional repeating units depending on your architecture.\n",
        "\n",
        "In the code cell below we can see an example of a `repeat_unit` function where the number of kernel filters and kernel size is specified. Batch Normalisation and activation layers can be turned on/off as required.\n",
        "\n",
        " * Convolutional Layers are described [here](https://www.tensorflow.org/api_docs/python/tf/keras/layers/Conv2D) \n",
        " * Batch Normalization layers are described [here](https://www.tensorflow.org/api_docs/python/tf/keras/layers/BatchNormalization) \n",
        " * Activation layers are described [here](https://www.tensorflow.org/api_docs/python/tf/keras/layers/Activation) \n",
        " "
      ]
    },
    {
      "cell_type": "code",
      "metadata": {
        "id": "kFwDIngPfrww"
      },
      "source": [
        "# Example of a Basic Repeating unit\n",
        "\n",
        "def repeat_unit(inputs, num_channels=16, kernel_size=3,\n",
        "                 strides=1, activation='relu', batch_normalization=False):\n",
        "    \"\"\"\n",
        "    inputs: Input to repeat unit.\n",
        "    num_channels: number of channels in convolution layer of repeat unit, nominally = 16\n",
        "    kernel_size: number of kernels to use in convolution, nominally = 3\n",
        "    strides: number of strides for kernel, nominally = 1\n",
        "    activation: type of activation applied to output of convolution, nominally ReLU. \n",
        "    x = output of repeat_unit\n",
        "    \"\"\"\n",
        "    conv = Conv2D(num_channels, kernel_size=kernel_size, strides=strides, padding='same',\n",
        "                  kernel_initializer='he_normal')\n",
        "    x = conv(inputs)\n",
        "    \n",
        "    if activation is not None:\n",
        "        x = Activation(activation)(x)\n",
        "\n",
        "    if batch_normalization:\n",
        "        x = BatchNormalization()(x)\n",
        "\n",
        "    return x\n"
      ],
      "execution_count": 47,
      "outputs": []
    },
    {
      "cell_type": "markdown",
      "metadata": {
        "id": "pFvVHWvWagSN"
      },
      "source": [
        "## Note 3: Top Level\n",
        "\n",
        "In the code cell below, an incomplete skeleton function is provided for your top level.  \n",
        "* This uses the Keras functional API\n",
        "* A single repeating unit which does not reduce the spatial dimensions of the input is placed at the top of the stack. You can change the number of channels/kernel size to suit your own architecture.\n",
        "* You can add your own layers/repeating units etc to build your own architecture with the function.\n",
        "* At the end of the stack we add a [global average pooling layer](https://www.tensorflow.org/api_docs/python/tf/keras/layers/GlobalAveragePooling2D) and fully connected [(Dense)](https://www.tensorflow.org/api_docs/python/tf/keras/layers/Dense) layer with softmax activation. (Alternatively to the Global Average pooling Dense layers can be used, this approach uses more parameter (memory) and is commonly seen in earlier Deeep Learning architectures such as AlexNet)"
      ]
    },
    {
      "cell_type": "code",
      "metadata": {
        "id": "AJLqQ-XQO-zt"
      },
      "source": [
        "#inputs.shape"
      ],
      "execution_count": 63,
      "outputs": []
    },
    {
      "cell_type": "code",
      "metadata": {
        "id": "BwPACVhkf0uF"
      },
      "source": [
        "\n",
        "def network_top(input_shape,num_classes=10):\n",
        "    \"\"\"\n",
        "    input Shape: (Define H,W, no. channels) of network input\n",
        "                 used in Input definition below\n",
        "    num_classes: Default = 10, sets output classes of network,\n",
        "                 set to same no. of classes as CIFAR 10 Dataset \n",
        "    model:       keras Model returned by this function.                          \n",
        "    \"\"\"\n",
        "       \n",
        "    # Define input of model\n",
        "    inputs = Input(shape=input_shape)\n",
        "\n",
        "    # Add First repeating Unit\n",
        "    x = repeat_unit(inputs=inputs, num_channels=12)\n",
        "  \n",
        "\n",
        "    ######## Add more layers/repeating units to build your Architecture here ##################\n",
        "    x = Conv2D(32,3, activation ='relu')(x)\n",
        "    x = Conv2D(64,3, activation ='relu')(x)\n",
        "    block_output_1 = MaxPooling2D(3)(x)\n",
        "\n",
        "    x = Conv2D(64,3, activation ='relu',padding = \"same\")(block_output_1)\n",
        "    x = Conv2D(64,3, activation ='relu',padding = \"same\")(x)\n",
        "    block_output_2 = add([x,block_output_1])\n",
        "\n",
        "    x = Conv2D(64,3, activation ='relu')(block_output_2)\n",
        "    # x = Conv2D(64,3, activation ='relu')(x)\n",
        "    # block_output = MaxPooling2D(3)(x)\n",
        "\n",
        "\n",
        "\n",
        "\n",
        "   \n",
        "\n",
        "\n",
        "\n",
        "    # Add final stages. (Ensure that you call the output of the very last layer outputs)\n",
        "    x = GlobalAveragePooling2D()(x)\n",
        "    outputs = Dense(num_classes,\n",
        "                    activation='softmax',\n",
        "                    kernel_initializer='he_normal')(x)\n",
        "\n",
        "    # Model definition\n",
        "    model = Model(inputs=inputs, outputs=outputs)\n",
        "    return model"
      ],
      "execution_count": 86,
      "outputs": []
    },
    {
      "cell_type": "code",
      "metadata": {
        "id": "fCBcPyVSPZ5l"
      },
      "source": [
        "#model.summary()"
      ],
      "execution_count": 87,
      "outputs": []
    },
    {
      "cell_type": "markdown",
      "metadata": {
        "id": "661APuAef2p4"
      },
      "source": [
        "# 4. Compile the Model\n",
        "Now that we have defined our functions to create the model, we'll instantiate the model and compile it.  Note that the compiling step in Keras, also configures the model for training. We define  loss function, the optimizer and metrics. \n",
        "\n",
        "Note the use here of [Sparse Categorical Crossentropy](https://www.tensorflow.org/api_docs/python/tf/keras/losses/SparseCategoricalCrossentropy). This loss function allows us to input integer values for true classes. With the regular categorical cross entropy loss function the supplied labels must be frist converted to a one-hot representation,  but this special loss function allows us to avoid manually converting to the one-hot representation.\n"
      ]
    },
    {
      "cell_type": "code",
      "metadata": {
        "id": "xyCg5D0sf6E1",
        "colab": {
          "base_uri": "https://localhost:8080/"
        },
        "outputId": "afdcf5e7-e06d-46d5-b810-42e7dbf6811a"
      },
      "source": [
        "input_shape = (32,32,3)\n",
        "model = network_top(input_shape=input_shape)\n",
        "model.compile(loss='SparseCategoricalCrossentropy', optimizer=Adam(), metrics=['accuracy'])\n",
        "model.summary()\n",
        "\n",
        "# Uncomment the following line to plot the model visually - warning this may be quite large!\n",
        "# keras.utils.plot_model(model, dpi=48)\n"
      ],
      "execution_count": 88,
      "outputs": [
        {
          "output_type": "stream",
          "name": "stdout",
          "text": [
            "Model: \"model_1\"\n",
            "__________________________________________________________________________________________________\n",
            " Layer (type)                   Output Shape         Param #     Connected to                     \n",
            "==================================================================================================\n",
            " input_7 (InputLayer)           [(None, 32, 32, 3)]  0           []                               \n",
            "                                                                                                  \n",
            " conv2d_14 (Conv2D)             (None, 32, 32, 12)   336         ['input_7[0][0]']                \n",
            "                                                                                                  \n",
            " activation_4 (Activation)      (None, 32, 32, 12)   0           ['conv2d_14[0][0]']              \n",
            "                                                                                                  \n",
            " conv2d_15 (Conv2D)             (None, 30, 30, 32)   3488        ['activation_4[0][0]']           \n",
            "                                                                                                  \n",
            " conv2d_16 (Conv2D)             (None, 28, 28, 64)   18496       ['conv2d_15[0][0]']              \n",
            "                                                                                                  \n",
            " max_pooling2d_2 (MaxPooling2D)  (None, 9, 9, 64)    0           ['conv2d_16[0][0]']              \n",
            "                                                                                                  \n",
            " conv2d_17 (Conv2D)             (None, 9, 9, 64)     36928       ['max_pooling2d_2[0][0]']        \n",
            "                                                                                                  \n",
            " conv2d_18 (Conv2D)             (None, 9, 9, 64)     36928       ['conv2d_17[0][0]']              \n",
            "                                                                                                  \n",
            " add (Add)                      (None, 9, 9, 64)     0           ['conv2d_18[0][0]',              \n",
            "                                                                  'max_pooling2d_2[0][0]']        \n",
            "                                                                                                  \n",
            " conv2d_19 (Conv2D)             (None, 7, 7, 64)     36928       ['add[0][0]']                    \n",
            "                                                                                                  \n",
            " global_average_pooling2d_1 (Gl  (None, 64)          0           ['conv2d_19[0][0]']              \n",
            " obalAveragePooling2D)                                                                            \n",
            "                                                                                                  \n",
            " dense_1 (Dense)                (None, 10)           650         ['global_average_pooling2d_1[0][0\n",
            "                                                                 ]']                              \n",
            "                                                                                                  \n",
            "==================================================================================================\n",
            "Total params: 133,754\n",
            "Trainable params: 133,754\n",
            "Non-trainable params: 0\n",
            "__________________________________________________________________________________________________\n"
          ]
        }
      ]
    },
    {
      "cell_type": "code",
      "metadata": {
        "id": "v8DjTywPSy4_",
        "outputId": "1243eeff-5500-474b-88d0-1ba70164670c",
        "colab": {
          "base_uri": "https://localhost:8080/",
          "height": 582
        }
      },
      "source": [
        "# Uncomment the following line to plot the model visually - warning this may be quite large!\n",
        "keras.utils.plot_model(model, dpi=48)"
      ],
      "execution_count": 90,
      "outputs": [
        {
          "output_type": "execute_result",
          "data": {
            "image/png": "[encoded data removed]",
            "text/plain": [
              "<IPython.core.display.Image object>"
            ]
          },
          "metadata": {},
          "execution_count": 90
        }
      ]
    },
    {
      "cell_type": "markdown",
      "metadata": {
        "id": "qzfMkJAUgT5l"
      },
      "source": [
        "# 5. Model Training\n",
        "\n",
        "We will now train the complied model on the cifar10 dataset using the tensorflow keras `model.fit` method. \n",
        "\n"
      ]
    },
    {
      "cell_type": "code",
      "metadata": {
        "id": "t9LcX-rwPbxR",
        "colab": {
          "base_uri": "https://localhost:8080/"
        },
        "outputId": "31e64408-daa4-4652-e612-91cf7c660a7c"
      },
      "source": [
        "epochs =55\n",
        "history = model.fit(train_dataset,\n",
        "                    epochs=epochs,\n",
        "                    validation_data=val_dataset)"
      ],
      "execution_count": 91,
      "outputs": [
        {
          "output_type": "stream",
          "name": "stdout",
          "text": [
            "Epoch 1/55\n",
            "1407/1407 [==============================] - 23s 15ms/step - loss: 1.5716 - accuracy: 0.4137 - val_loss: 1.3085 - val_accuracy: 0.5220\n",
            "Epoch 2/55\n",
            "1407/1407 [==============================] - 20s 14ms/step - loss: 1.1129 - accuracy: 0.6014 - val_loss: 1.0444 - val_accuracy: 0.6133\n",
            "Epoch 3/55\n",
            "1407/1407 [==============================] - 21s 15ms/step - loss: 0.9021 - accuracy: 0.6798 - val_loss: 0.9142 - val_accuracy: 0.6700\n",
            "Epoch 4/55\n",
            "1407/1407 [==============================] - 22s 16ms/step - loss: 0.7708 - accuracy: 0.7310 - val_loss: 0.8335 - val_accuracy: 0.7060\n",
            "Epoch 5/55\n",
            "1407/1407 [==============================] - 22s 15ms/step - loss: 0.6840 - accuracy: 0.7622 - val_loss: 0.7984 - val_accuracy: 0.7216\n",
            "Epoch 6/55\n",
            "1407/1407 [==============================] - 22s 16ms/step - loss: 0.6185 - accuracy: 0.7852 - val_loss: 0.7709 - val_accuracy: 0.7320\n",
            "Epoch 7/55\n",
            "1407/1407 [==============================] - 22s 16ms/step - loss: 0.5634 - accuracy: 0.8043 - val_loss: 0.7577 - val_accuracy: 0.7424\n",
            "Epoch 8/55\n",
            "1407/1407 [==============================] - 22s 16ms/step - loss: 0.5117 - accuracy: 0.8221 - val_loss: 0.7669 - val_accuracy: 0.7462\n",
            "Epoch 9/55\n",
            "1407/1407 [==============================] - 23s 16ms/step - loss: 0.4651 - accuracy: 0.8381 - val_loss: 0.7635 - val_accuracy: 0.7516\n",
            "Epoch 10/55\n",
            "1407/1407 [==============================] - 22s 16ms/step - loss: 0.4243 - accuracy: 0.8523 - val_loss: 0.7729 - val_accuracy: 0.7618\n",
            "Epoch 11/55\n",
            "1407/1407 [==============================] - 22s 15ms/step - loss: 0.3888 - accuracy: 0.8660 - val_loss: 0.7686 - val_accuracy: 0.7656\n",
            "Epoch 12/55\n",
            "1407/1407 [==============================] - 22s 16ms/step - loss: 0.3539 - accuracy: 0.8792 - val_loss: 0.8211 - val_accuracy: 0.7633\n",
            "Epoch 13/55\n",
            "1407/1407 [==============================] - 22s 15ms/step - loss: 0.3305 - accuracy: 0.8861 - val_loss: 0.8389 - val_accuracy: 0.7669\n",
            "Epoch 14/55\n",
            "1407/1407 [==============================] - 22s 16ms/step - loss: 0.3086 - accuracy: 0.8923 - val_loss: 0.8639 - val_accuracy: 0.7660\n",
            "Epoch 15/55\n",
            "1407/1407 [==============================] - 22s 15ms/step - loss: 0.2831 - accuracy: 0.9003 - val_loss: 0.9843 - val_accuracy: 0.7542\n",
            "Epoch 16/55\n",
            "1407/1407 [==============================] - 21s 15ms/step - loss: 0.2614 - accuracy: 0.9072 - val_loss: 1.0083 - val_accuracy: 0.7567\n",
            "Epoch 17/55\n",
            "1407/1407 [==============================] - 22s 16ms/step - loss: 0.2463 - accuracy: 0.9118 - val_loss: 1.1247 - val_accuracy: 0.7391\n",
            "Epoch 18/55\n",
            "1407/1407 [==============================] - 22s 16ms/step - loss: 0.2226 - accuracy: 0.9208 - val_loss: 1.1554 - val_accuracy: 0.7480\n",
            "Epoch 19/55\n",
            "1407/1407 [==============================] - 22s 15ms/step - loss: 0.2038 - accuracy: 0.9258 - val_loss: 1.1914 - val_accuracy: 0.7440\n",
            "Epoch 20/55\n",
            "1407/1407 [==============================] - 23s 16ms/step - loss: 0.1893 - accuracy: 0.9318 - val_loss: 1.3372 - val_accuracy: 0.7424\n",
            "Epoch 21/55\n",
            "1407/1407 [==============================] - 22s 16ms/step - loss: 0.1760 - accuracy: 0.9355 - val_loss: 1.2281 - val_accuracy: 0.7631\n",
            "Epoch 22/55\n",
            "1407/1407 [==============================] - 22s 16ms/step - loss: 0.1634 - accuracy: 0.9398 - val_loss: 1.2801 - val_accuracy: 0.7569\n",
            "Epoch 23/55\n",
            "1407/1407 [==============================] - 22s 15ms/step - loss: 0.1650 - accuracy: 0.9402 - val_loss: 1.2157 - val_accuracy: 0.7658\n",
            "Epoch 24/55\n",
            "1407/1407 [==============================] - 22s 16ms/step - loss: 0.1437 - accuracy: 0.9476 - val_loss: 1.3994 - val_accuracy: 0.7511\n",
            "Epoch 25/55\n",
            "1407/1407 [==============================] - 22s 15ms/step - loss: 0.1412 - accuracy: 0.9484 - val_loss: 1.4342 - val_accuracy: 0.7576\n",
            "Epoch 26/55\n",
            "1407/1407 [==============================] - 22s 16ms/step - loss: 0.1318 - accuracy: 0.9526 - val_loss: 1.4806 - val_accuracy: 0.7618\n",
            "Epoch 27/55\n",
            "1407/1407 [==============================] - 22s 15ms/step - loss: 0.1228 - accuracy: 0.9560 - val_loss: 1.4886 - val_accuracy: 0.7662\n",
            "Epoch 28/55\n",
            "1407/1407 [==============================] - 22s 16ms/step - loss: 0.1168 - accuracy: 0.9586 - val_loss: 1.7194 - val_accuracy: 0.7480\n",
            "Epoch 29/55\n",
            "1407/1407 [==============================] - 23s 16ms/step - loss: 0.1133 - accuracy: 0.9606 - val_loss: 1.5386 - val_accuracy: 0.7580\n",
            "Epoch 30/55\n",
            "1407/1407 [==============================] - 22s 15ms/step - loss: 0.1082 - accuracy: 0.9610 - val_loss: 1.5304 - val_accuracy: 0.7644\n",
            "Epoch 31/55\n",
            "1407/1407 [==============================] - 22s 16ms/step - loss: 0.1062 - accuracy: 0.9616 - val_loss: 1.5546 - val_accuracy: 0.7629\n",
            "Epoch 32/55\n",
            "1407/1407 [==============================] - 22s 16ms/step - loss: 0.1018 - accuracy: 0.9636 - val_loss: 1.7698 - val_accuracy: 0.7589\n",
            "Epoch 33/55\n",
            "1407/1407 [==============================] - 22s 16ms/step - loss: 0.0977 - accuracy: 0.9645 - val_loss: 1.7880 - val_accuracy: 0.7484\n",
            "Epoch 34/55\n",
            "1407/1407 [==============================] - 22s 16ms/step - loss: 0.0910 - accuracy: 0.9674 - val_loss: 1.7253 - val_accuracy: 0.7600\n",
            "Epoch 35/55\n",
            "1407/1407 [==============================] - 22s 15ms/step - loss: 0.0953 - accuracy: 0.9672 - val_loss: 1.9669 - val_accuracy: 0.7431\n",
            "Epoch 36/55\n",
            "1407/1407 [==============================] - 22s 16ms/step - loss: 0.0944 - accuracy: 0.9669 - val_loss: 1.6672 - val_accuracy: 0.7556\n",
            "Epoch 37/55\n",
            "1407/1407 [==============================] - 22s 15ms/step - loss: 0.0891 - accuracy: 0.9691 - val_loss: 1.6687 - val_accuracy: 0.7618\n",
            "Epoch 38/55\n",
            "1407/1407 [==============================] - 22s 15ms/step - loss: 0.0856 - accuracy: 0.9701 - val_loss: 2.0118 - val_accuracy: 0.7473\n",
            "Epoch 39/55\n",
            "1407/1407 [==============================] - 23s 16ms/step - loss: 0.0849 - accuracy: 0.9701 - val_loss: 1.7174 - val_accuracy: 0.7633\n",
            "Epoch 40/55\n",
            "1407/1407 [==============================] - 22s 16ms/step - loss: 0.0816 - accuracy: 0.9720 - val_loss: 1.8221 - val_accuracy: 0.7644\n",
            "Epoch 41/55\n",
            "1407/1407 [==============================] - 22s 16ms/step - loss: 0.0783 - accuracy: 0.9735 - val_loss: 1.7029 - val_accuracy: 0.7718\n",
            "Epoch 42/55\n",
            "1407/1407 [==============================] - 22s 15ms/step - loss: 0.0788 - accuracy: 0.9728 - val_loss: 1.7740 - val_accuracy: 0.7636\n",
            "Epoch 43/55\n",
            "1407/1407 [==============================] - 22s 15ms/step - loss: 0.0796 - accuracy: 0.9724 - val_loss: 1.8031 - val_accuracy: 0.7687\n",
            "Epoch 44/55\n",
            "1407/1407 [==============================] - 22s 15ms/step - loss: 0.0782 - accuracy: 0.9743 - val_loss: 1.8110 - val_accuracy: 0.7678\n",
            "Epoch 45/55\n",
            "1407/1407 [==============================] - 22s 16ms/step - loss: 0.0810 - accuracy: 0.9725 - val_loss: 1.8184 - val_accuracy: 0.7633\n",
            "Epoch 46/55\n",
            "1407/1407 [==============================] - 21s 15ms/step - loss: 0.0774 - accuracy: 0.9739 - val_loss: 1.7858 - val_accuracy: 0.7673\n",
            "Epoch 47/55\n",
            "1407/1407 [==============================] - 21s 15ms/step - loss: 0.0703 - accuracy: 0.9768 - val_loss: 1.7611 - val_accuracy: 0.7651\n",
            "Epoch 48/55\n",
            "1407/1407 [==============================] - 21s 15ms/step - loss: 0.0723 - accuracy: 0.9755 - val_loss: 1.7187 - val_accuracy: 0.7707\n",
            "Epoch 49/55\n",
            "1407/1407 [==============================] - 21s 15ms/step - loss: 0.0668 - accuracy: 0.9770 - val_loss: 1.8334 - val_accuracy: 0.7662\n",
            "Epoch 50/55\n",
            "1407/1407 [==============================] - 21s 15ms/step - loss: 0.0728 - accuracy: 0.9753 - val_loss: 1.7804 - val_accuracy: 0.7733\n",
            "Epoch 51/55\n",
            "1407/1407 [==============================] - 22s 15ms/step - loss: 0.0674 - accuracy: 0.9769 - val_loss: 1.8487 - val_accuracy: 0.7696\n",
            "Epoch 52/55\n",
            "1407/1407 [==============================] - 22s 16ms/step - loss: 0.0693 - accuracy: 0.9762 - val_loss: 1.9157 - val_accuracy: 0.7658\n",
            "Epoch 53/55\n",
            "1407/1407 [==============================] - 21s 15ms/step - loss: 0.0676 - accuracy: 0.9772 - val_loss: 1.8424 - val_accuracy: 0.7578\n",
            "Epoch 54/55\n",
            "1407/1407 [==============================] - 21s 15ms/step - loss: 0.0661 - accuracy: 0.9780 - val_loss: 1.9702 - val_accuracy: 0.7620\n",
            "Epoch 55/55\n",
            "1407/1407 [==============================] - 21s 15ms/step - loss: 0.0639 - accuracy: 0.9791 - val_loss: 2.0246 - val_accuracy: 0.7682\n"
          ]
        }
      ]
    },
    {
      "cell_type": "markdown",
      "metadata": {
        "id": "8FZ6cNvVf_bz"
      },
      "source": [
        "We will plot the loss and accuracy for the training and validation data sets."
      ]
    },
    {
      "cell_type": "code",
      "metadata": {
        "id": "DHas5bv9gAlc",
        "colab": {
          "base_uri": "https://localhost:8080/",
          "height": 966
        },
        "outputId": "22e876b7-c8b6-4856-feff-5fa6ff7b310e"
      },
      "source": [
        "print(history.history.keys())\n",
        "acc = history.history['accuracy']\n",
        "val_acc = history.history['val_accuracy']\n",
        "\n",
        "loss = history.history['loss']\n",
        "val_loss = history.history['val_loss']\n",
        "\n",
        "plt.figure(figsize=(12, 16))\n",
        "plt.subplot(2, 1, 1)\n",
        "plt.plot(acc, label='Training Accuracy')\n",
        "plt.plot(val_acc, label='Validation Accuracy')\n",
        "plt.legend(loc='lower right')\n",
        "plt.ylabel('Accuracy')\n",
        "plt.ylim([min(plt.ylim()),1])\n",
        "plt.title('Training and Validation Accuracy')\n",
        "\n",
        "plt.subplot(2, 1, 2)\n",
        "plt.plot(loss, label='Training Loss')\n",
        "plt.plot(val_loss, label='Validation Loss')\n",
        "plt.legend(loc='upper right')\n",
        "plt.ylabel('Cross Entropy')\n",
        "plt.ylim([0,2.0])\n",
        "plt.title('Training and Validation Loss')\n",
        "plt.xlabel('epoch')\n",
        "plt.show()"
      ],
      "execution_count": 92,
      "outputs": [
        {
          "output_type": "stream",
          "name": "stdout",
          "text": [
            "dict_keys(['loss', 'accuracy', 'val_loss', 'val_accuracy'])\n"
          ]
        },
        {
          "output_type": "display_data",
          "data": {
            "image/png": "[encoded data removed]",
            "text/plain": [
              "<Figure size 864x1152 with 2 Axes>"
            ]
          },
          "metadata": {
            "needs_background": "light"
          }
        }
      ]
    },
    {
      "cell_type": "markdown",
      "metadata": {
        "id": "-e16_Awsoeg8"
      },
      "source": [
        "# 6. Model Testing\n",
        "We will iterate through the test data and analyse the results using tools from sklearn. We create a classification report, a confusion matrix and also plot a few examples from the test set."
      ]
    },
    {
      "cell_type": "markdown",
      "metadata": {
        "id": "puBxU_hoXHP2"
      },
      "source": [
        "Iterate through n_test batches and store the predicted and ground truth labels in numpy arrays."
      ]
    },
    {
      "cell_type": "code",
      "metadata": {
        "id": "tFavqJx2U0lP"
      },
      "source": [
        "n_test = 100 # number of batches to use\n",
        "store_predictions = []\n",
        "store_labels = []\n",
        "for image_batch,label_batch in test_dataset.take(n_test):\n",
        "    predictions = model.predict_on_batch(image_batch) \n",
        "    predictions = tf.math.argmax(predictions,axis=1)\n",
        "    store_predictions.append(predictions)\n",
        "    store_labels.append(label_batch)\n",
        "y_pred = np.squeeze(np.reshape(store_predictions,(1,n_test*batch_size)))\n",
        "y_true = np.squeeze(np.reshape(store_labels,(1,n_test*batch_size)))\n"
      ],
      "execution_count": 93,
      "outputs": []
    },
    {
      "cell_type": "markdown",
      "metadata": {
        "id": "m30l3ZrqXy9O"
      },
      "source": [
        "Create and plot a confusion matrix."
      ]
    },
    {
      "cell_type": "code",
      "metadata": {
        "id": "h_C6iDxCVBdu",
        "colab": {
          "base_uri": "https://localhost:8080/",
          "height": 311
        },
        "outputId": "5783a376-8ee3-4603-8c17-1e327713c630"
      },
      "source": [
        "#https://scikit-learn.org/0.16/auto_examples/model_selection/plot_confusion_matrix.html\n",
        "from sklearn.metrics import confusion_matrix\n",
        "cm = confusion_matrix(y_true, y_pred)\n",
        "def plot_confusion_matrix(cm, title='Confusion matrix', cmap=plt.cm.Blues):\n",
        "    plt.imshow(cm, interpolation='nearest', cmap=cmap)\n",
        "    plt.title(title)\n",
        "    plt.colorbar()\n",
        "    tick_marks = np.arange(len(label_str))\n",
        "    plt.xticks(tick_marks, label_str, rotation=45)\n",
        "    plt.yticks(tick_marks, label_str)\n",
        "    plt.tight_layout()\n",
        "    plt.ylabel('True label')\n",
        "    plt.xlabel('Predicted label')\n",
        "\n",
        "plot_confusion_matrix(cm)"
      ],
      "execution_count": 94,
      "outputs": [
        {
          "output_type": "display_data",
          "data": {
            "image/png": "[encoded data removed]",
            "text/plain": [
              "<Figure size 432x288 with 2 Axes>"
            ]
          },
          "metadata": {
            "needs_background": "light"
          }
        }
      ]
    },
    {
      "cell_type": "markdown",
      "metadata": {
        "id": "ouFy9VtvYA9X"
      },
      "source": [
        "Generate & print the classification report"
      ]
    },
    {
      "cell_type": "code",
      "metadata": {
        "id": "EAIH0ehnX63_",
        "colab": {
          "base_uri": "https://localhost:8080/"
        },
        "outputId": "5cfef814-5034-4c52-f330-1ca8a1d32685"
      },
      "source": [
        "from sklearn.metrics import classification_report\n",
        "print(classification_report(y_true, y_pred, target_names=label_str))"
      ],
      "execution_count": 95,
      "outputs": [
        {
          "output_type": "stream",
          "name": "stdout",
          "text": [
            "              precision    recall  f1-score   support\n",
            "\n",
            "    airplane       0.82      0.76      0.79       337\n",
            "  automobile       0.80      0.95      0.87       338\n",
            "        bird       0.65      0.74      0.69       306\n",
            "         cat       0.57      0.65      0.61       323\n",
            "        deer       0.81      0.65      0.72       297\n",
            "         dog       0.79      0.61      0.69       325\n",
            "        frog       0.83      0.83      0.83       307\n",
            "       horse       0.73      0.85      0.79       317\n",
            "        ship       0.91      0.85      0.88       326\n",
            "       truck       0.88      0.83      0.85       324\n",
            "\n",
            "    accuracy                           0.77      3200\n",
            "   macro avg       0.78      0.77      0.77      3200\n",
            "weighted avg       0.78      0.77      0.77      3200\n",
            "\n"
          ]
        }
      ]
    },
    {
      "cell_type": "markdown",
      "metadata": {
        "id": "Lsc0re0gW-AQ"
      },
      "source": [
        "Plot some test images and predicted labels."
      ]
    },
    {
      "cell_type": "code",
      "metadata": {
        "id": "sgFicmYTsun7",
        "colab": {
          "base_uri": "https://localhost:8080/",
          "height": 196
        },
        "outputId": "952502d0-656c-4f46-b793-c066d18ab1cd"
      },
      "source": [
        "#Retrieve a batch of images from the test set\n",
        "image_batch, label_batch = test_dataset.as_numpy_iterator().next()\n",
        "predictions = model.predict_on_batch(image_batch)\n",
        "print(np.shape(predictions))\n",
        "# Apply a sigmoid since our model returns logits\n",
        "predictions = tf.math.argmax(predictions,axis=1)\n",
        "print(np.shape(predictions))\n",
        "print('Predictions:\\n', predictions.numpy())\n",
        "\n",
        "\n",
        "i=0\n",
        "n_plots = 12 # number of plots\n",
        "f, axarr = plt.subplots(1,n_plots,figsize=(20,10))\n",
        "\n",
        "for image in image_batch[0:n_plots,:,:,:]:  # Only take a single example\n",
        "  axarr[i].imshow(image[:,:,:]+0.5)\n",
        "  axarr[i].axis('off')\n",
        "  \n",
        "  color = ('black' if predictions[i] == int(label_batch[i]) else 'red') \n",
        "  axarr[i].set_title(label_str[int(predictions[i])],fontsize='small', color=color)\n",
        "  i = i+1"
      ],
      "execution_count": 96,
      "outputs": [
        {
          "output_type": "stream",
          "name": "stdout",
          "text": [
            "(32, 10)\n",
            "(32,)\n",
            "Predictions:\n",
            " [2 0 6 9 5 1 7 8 3 7 7 2 7 9 2 0 2 8 7 9 4 5 3 5 3 8 2 8 1 8 6 0]\n"
          ]
        },
        {
          "output_type": "display_data",
          "data": {
            "image/png": "[encoded data removed]",
            "text/plain": [
              "<Figure size 1440x720 with 12 Axes>"
            ]
          },
          "metadata": {
            "needs_background": "light"
          }
        }
      ]
    },
    {
      "cell_type": "markdown",
      "metadata": {
        "id": "VBcUifu4dSIt"
      },
      "source": [
        "# Please Leave a note here explaining your approach/results for the e-moderator.\n",
        "\n"
      ]
    }
  ]
}